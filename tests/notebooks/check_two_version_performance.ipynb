{
 "cells": [
  {
   "cell_type": "code",
   "execution_count": 51,
   "metadata": {},
   "outputs": [],
   "source": [
    "# check the performance benchmarks between two versions\n",
    "import os, sys\n",
    "import numpy as np\n",
    "import matplotlib.pyplot as plt\n",
    "\n",
    "sys.path.append(os.getcwd())\n",
    "sys.path.append(os.path.join(os.getcwd(), \"..\", \"..\"))\n",
    "sys.path.append(os.path.join(os.getcwd(), \"..\", \"..\", \"gtracr\"))\n",
    "\n",
    "from trajectory import Trajectory\n",
    "from constants import EARTH_RADIUS\n",
    "\n",
    "import time"
   ]
  },
  {
   "cell_type": "code",
   "execution_count": 52,
   "metadata": {},
   "outputs": [],
   "source": [
    "def autolabel(rects):\n",
    "    \"\"\"Attach a text label above each bar in *rects*, displaying its height.\"\"\"\n",
    "    for rect in rects:\n",
    "        height = rect.get_height()\n",
    "        ax.annotate('{:.3f}'.format(height),\n",
    "                    xy=(rect.get_x() + rect.get_width() / 2, height),\n",
    "                    xytext=(0, 3),  # 3 points vertical offset\n",
    "                    textcoords=\"offset points\",\n",
    "                    ha='center', va='bottom', fontsize=12.0)"
   ]
  },
  {
   "cell_type": "code",
   "execution_count": 53,
   "metadata": {},
   "outputs": [],
   "source": [
    "traj1 = Trajectory(\n",
    "        \"p+\",\n",
    "        latitude=0.,\n",
    "        longitude=0.,\n",
    "        detector_altitude=100.,\n",
    "        zenith_angle=0.,\n",
    "        azimuth_angle=0.,\n",
    "        particle_altitude=100.,\n",
    "        rigidity=40.,\n",
    "        bfield_type=\"dipole\"\n",
    "    )\n",
    "\n",
    "traj2 = Trajectory(\n",
    "        \"p+\",\n",
    "        latitude=0.,\n",
    "        longitude=0.,\n",
    "        detector_altitude=100.,\n",
    "        zenith_angle=0.,\n",
    "        azimuth_angle=0.,\n",
    "        particle_altitude=100.,\n",
    "        rigidity=40.,\n",
    "        bfield_type=\"dipole\"\n",
    "    )"
   ]
  },
  {
   "cell_type": "code",
   "execution_count": 54,
   "metadata": {},
   "outputs": [],
   "source": [
    "max_iter = 100    # maximum number of iterations\n",
    "# initialize performance benchmark time arrays\n",
    "time_arr1 = np.zeros(max_iter)\n",
    "time_arr2 = np.zeros(max_iter)"
   ]
  },
  {
   "cell_type": "code",
   "execution_count": 55,
   "metadata": {},
   "outputs": [
    {
     "ename": "Exception",
     "evalue": "Unvectorized Python version does not exist!",
     "output_type": "error",
     "traceback": [
      "\u001b[0;31m---------------------------------------------------------------------------\u001b[0m",
      "\u001b[0;31mException\u001b[0m                                 Traceback (most recent call last)",
      "\u001b[0;32m<ipython-input-55-0f57d80775f6>\u001b[0m in \u001b[0;36m<module>\u001b[0;34m\u001b[0m\n\u001b[1;32m      7\u001b[0m     \u001b[0;31m# evaluate for the second trajectory type\u001b[0m\u001b[0;34m\u001b[0m\u001b[0;34m\u001b[0m\u001b[0;34m\u001b[0m\u001b[0m\n\u001b[1;32m      8\u001b[0m     \u001b[0mstart_time2\u001b[0m \u001b[0;34m=\u001b[0m \u001b[0mtime\u001b[0m\u001b[0;34m.\u001b[0m\u001b[0mtime\u001b[0m\u001b[0;34m(\u001b[0m\u001b[0;34m)\u001b[0m\u001b[0;34m\u001b[0m\u001b[0;34m\u001b[0m\u001b[0m\n\u001b[0;32m----> 9\u001b[0;31m     \u001b[0mtrajdata2\u001b[0m \u001b[0;34m=\u001b[0m \u001b[0mtraj2\u001b[0m\u001b[0;34m.\u001b[0m\u001b[0mget_trajectory\u001b[0m\u001b[0;34m(\u001b[0m\u001b[0mdt\u001b[0m\u001b[0;34m=\u001b[0m\u001b[0;36m1e-5\u001b[0m\u001b[0;34m,\u001b[0m \u001b[0mmax_time\u001b[0m\u001b[0;34m=\u001b[0m\u001b[0;36m0.05\u001b[0m\u001b[0;34m,\u001b[0m \u001b[0mmax_step\u001b[0m\u001b[0;34m=\u001b[0m\u001b[0;36m10000\u001b[0m\u001b[0;34m,\u001b[0m \u001b[0muse_python\u001b[0m\u001b[0;34m=\u001b[0m\u001b[0;32mTrue\u001b[0m\u001b[0;34m,\u001b[0m \u001b[0muse_unvectorized\u001b[0m\u001b[0;34m=\u001b[0m\u001b[0;32mTrue\u001b[0m\u001b[0;34m)\u001b[0m  \u001b[0;31m# 1000 iterations with dt=1e-5, max_time=0.05s\u001b[0m\u001b[0;34m\u001b[0m\u001b[0;34m\u001b[0m\u001b[0m\n\u001b[0m\u001b[1;32m     10\u001b[0m     \u001b[0mstop_time2\u001b[0m \u001b[0;34m=\u001b[0m \u001b[0mtime\u001b[0m\u001b[0;34m.\u001b[0m\u001b[0mtime\u001b[0m\u001b[0;34m(\u001b[0m\u001b[0;34m)\u001b[0m\u001b[0;34m\u001b[0m\u001b[0;34m\u001b[0m\u001b[0m\n\u001b[1;32m     11\u001b[0m     \u001b[0mtime_arr2\u001b[0m\u001b[0;34m[\u001b[0m\u001b[0mi\u001b[0m\u001b[0;34m]\u001b[0m \u001b[0;34m=\u001b[0m \u001b[0mstop_time2\u001b[0m \u001b[0;34m-\u001b[0m \u001b[0mstart_time2\u001b[0m\u001b[0;34m\u001b[0m\u001b[0;34m\u001b[0m\u001b[0m\n",
      "\u001b[0;32m/mnt/c/Users/voltk/devel/gtracr/tests/notebooks/../../gtracr/trajectory.py\u001b[0m in \u001b[0;36mget_trajectory\u001b[0;34m(self, dt, max_time, max_step, get_data, use_python, use_unvectorized)\u001b[0m\n\u001b[1;32m    143\u001b[0m         \u001b[0;31m# raise issues if both use python and use unvectorized form is True\u001b[0m\u001b[0;34m\u001b[0m\u001b[0;34m\u001b[0m\u001b[0;34m\u001b[0m\u001b[0m\n\u001b[1;32m    144\u001b[0m         \u001b[0;32mif\u001b[0m \u001b[0muse_python\u001b[0m \u001b[0;32mand\u001b[0m \u001b[0muse_unvectorized\u001b[0m\u001b[0;34m:\u001b[0m\u001b[0;34m\u001b[0m\u001b[0;34m\u001b[0m\u001b[0m\n\u001b[0;32m--> 145\u001b[0;31m             \u001b[0;32mraise\u001b[0m \u001b[0mException\u001b[0m\u001b[0;34m(\u001b[0m\u001b[0;34m\"Unvectorized Python version does not exist!\"\u001b[0m\u001b[0;34m)\u001b[0m\u001b[0;34m\u001b[0m\u001b[0;34m\u001b[0m\u001b[0m\n\u001b[0m\u001b[1;32m    146\u001b[0m \u001b[0;34m\u001b[0m\u001b[0m\n\u001b[1;32m    147\u001b[0m         \u001b[0;31m# start iteration process\u001b[0m\u001b[0;34m\u001b[0m\u001b[0;34m\u001b[0m\u001b[0;34m\u001b[0m\u001b[0m\n",
      "\u001b[0;31mException\u001b[0m: Unvectorized Python version does not exist!"
     ]
    }
   ],
   "source": [
    "for i in range(max_iter):\n",
    "    # evaluate for the first trajectory type\n",
    "    start_time1 = time.time()\n",
    "    trajdata1 = traj1.get_trajectory(dt=1e-5, max_time=0.05, max_step=10000, use_python=False, use_unvectorized=False)  # 1000 iterations with dt=1e-5, max_time=0.05s\n",
    "    stop_time1 = time.time()\n",
    "    time_arr1[i] = stop_time1 - start_time1\n",
    "    # evaluate for the second trajectory type\n",
    "    start_time2 = time.time()\n",
    "    trajdata2 = traj2.get_trajectory(dt=1e-5, max_time=0.05, max_step=10000, use_python=True, use_unvectorized=False)  # 1000 iterations with dt=1e-5, max_time=0.05s\n",
    "    stop_time2 = time.time()\n",
    "    time_arr2[i] = stop_time2 - start_time2"
   ]
  },
  {
   "cell_type": "code",
   "execution_count": 48,
   "metadata": {},
   "outputs": [],
   "source": [
    "# get the average value of the time for each trajectory version\n",
    "avg_time1 = np.sum(time_arr1) / max_iter\n",
    "avg_time2 = np.sum(time_arr2) / max_iter\n",
    "\n",
    "avg_timearr = np.array([avg_time1, avg_time2]) / avg_time1   # normalized to C++ version\n",
    "# avg_timearr = np.array([avg_time1, avg_time2])"
   ]
  },
  {
   "cell_type": "code",
   "execution_count": 50,
   "metadata": {},
   "outputs": [
    {
     "data": {
      "image/png": "[encoded data removed]",
      "text/plain": [
       "<Figure size 864x648 with 1 Axes>"
      ]
     },
     "metadata": {},
     "output_type": "display_data"
    }
   ],
   "source": [
    " # the labels, needs to be modified every time different modification is used\n",
    "# labels = [\"Python (Vector)\", \"C++ (non-Vector)\"] \n",
    "labels = [\"C++ (Vector)\",\"Python (Vector)\"] \n",
    "# labels = [\"C++ (Vector)\", \"C++ (non-Vector)\"]\n",
    "label_pos = np.arange(len(labels))\n",
    "width = 0.25\n",
    "# plot the histogram comparing the two values\n",
    "fig, ax = plt.subplots(figsize=(12,9))\n",
    "fig.patch.set_facecolor('white')\n",
    "bar = ax.bar(label_pos, avg_timearr, width)\n",
    "ax.set_xticks(label_pos)\n",
    "ax.set_xticklabels(labels)\n",
    "# ax.set_ylabel(\"Time [s]\")\n",
    "ax.set_ylabel(\"Scale Factor relative to result from {:s} version\".format(labels[0]))\n",
    "ax.set_title(\"Performance benchmark between {:s} and {:s} for {:d} iterations\".format(*labels, max_iter))\n",
    "\n",
    "autolabel(bar)\n",
    "\n",
    "PLOT_DIR = os.path.join(os.getcwd(), \"..\", \"..\", \"..\", \"gtracr_plots\")\n",
    "\n",
    "# savefig_labels = [\"pyvec\", \"cpp_novec\"]\n",
    "# savefig_labels = [\"cpp_vec\", \"cpp_novec\"]\n",
    "savefig_labels = [\"cpp_vec\", \"pyvec\"]\n",
    "plt.savefig(os.path.join(PLOT_DIR, \"{:s}_vs_{:s}_benchmark.png\".format(*savefig_labels)), bbox_inches='tight')"
   ]
  },
  {
   "cell_type": "code",
   "execution_count": 13,
   "metadata": {},
   "outputs": [
    {
     "data": {
      "text/plain": [
       "<Figure size 432x288 with 0 Axes>"
      ]
     },
     "metadata": {},
     "output_type": "display_data"
    }
   ],
   "source": []
  },
  {
   "cell_type": "code",
   "execution_count": null,
   "metadata": {},
   "outputs": [],
   "source": [
    "for i in range(max_iter):\n",
    "    start_time2 = time.time()\n",
    "    trajdata2 = traj2.get_trajectory(dt=1e-5, max_time=0.05, max_step=10000, use_python=True)  # 1000 iterations with dt=1e-5, max_time=0.05s\n",
    "    stop_time2 = time.time()\n",
    "    time_arr2[i] = stop_time2 - start_time2"
   ]
  }
 ],
 "metadata": {
  "kernelspec": {
   "display_name": "Python 3",
   "language": "python",
   "name": "python3"
  },
  "language_info": {
   "codemirror_mode": {
    "name": "ipython",
    "version": 3
   },
   "file_extension": ".py",
   "mimetype": "text/x-python",
   "name": "python",
   "nbconvert_exporter": "python",
   "pygments_lexer": "ipython3",
   "version": "3.8.2"
  }
 },
 "nbformat": 4,
 "nbformat_minor": 4
}
