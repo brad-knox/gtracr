{
 "cells": [
  {
   "cell_type": "code",
   "execution_count": 16,
   "metadata": {},
   "outputs": [],
   "source": [
    "# check the performance benchmarks between two versions\n",
    "import os, sys\n",
    "import numpy as np\n",
    "import matplotlib.pyplot as plt\n",
    "\n",
    "sys.path.append(os.getcwd())\n",
    "sys.path.append(os.path.join(os.getcwd(), \"..\", \"..\"))\n",
    "sys.path.append(os.path.join(os.getcwd(), \"..\", \"..\", \"gtracr\"))\n",
    "\n",
    "from trajectory import Trajectory\n",
    "from constants import EARTH_RADIUS\n",
    "\n",
    "import time"
   ]
  },
  {
   "cell_type": "code",
   "execution_count": null,
   "metadata": {},
   "outputs": [],
   "source": [
    "def autolabel(rects):\n",
    "    \"\"\"Attach a text label above each bar in *rects*, displaying its height.\"\"\"\n",
    "    for rect in rects:\n",
    "        height = rect.get_height()\n",
    "        ax.annotate('{}'.format(height),\n",
    "                    xy=(rect.get_x() + rect.get_width() / 2, height),\n",
    "                    xytext=(0, 3),  # 3 points vertical offset\n",
    "                    textcoords=\"offset points\",\n",
    "                    ha='center', va='bottom', fontsize=5.0)"
   ]
  },
  {
   "cell_type": "code",
   "execution_count": null,
   "metadata": {},
   "outputs": [],
   "source": [
    "# should be in Monte carlo in the future\n",
    "traj_dip = Trajectory(\n",
    "        \"p+\",\n",
    "        latitude=0.,\n",
    "        longitude=0.,\n",
    "        detector_altitude=100.,\n",
    "        zenith_angle=0.,\n",
    "        azimuth_angle=0.,\n",
    "        particle_altitude=100.,\n",
    "        rigidity=40.,\n",
    "        bfield_type=\"dipole\"\n",
    "    )\n",
    "\n",
    "traj_igrf = Trajectory(\n",
    "        \"p+\",\n",
    "        latitude=0.,\n",
    "        longitude=0.,\n",
    "        detector_altitude=100.,\n",
    "        zenith_angle=0.,\n",
    "        azimuth_angle=0.,\n",
    "        particle_altitude=100.,\n",
    "        rigidity=40.,\n",
    "        bfield_type=\"igrf\"\n",
    "    )"
   ]
  },
  {
   "cell_type": "code",
   "execution_count": null,
   "metadata": {},
   "outputs": [],
   "source": [
    "max_iter = 100    # maximum number of iterations\n",
    "dt = 1e-5    # step size in integration\n",
    "max_step = 10000   # max steps in integration\n",
    "# initialize performance benchmark time variables\n",
    "time_python_dip = 0.\n",
    "time_cpp_novec_dip = 0.\n",
    "time_cpp_vec_dip = 0.\n",
    "time_python_igrf = 0.\n",
    "time_cpp_novec_igrf = 0.\n",
    "time_cpp_vec_igrf = 0.\n",
    "time_hydra = 0."
   ]
  },
  {
   "cell_type": "code",
   "execution_count": null,
   "metadata": {},
   "outputs": [],
   "source": [
    "for i in range(max_iter):\n",
    "    # evaluate for python version\n",
    "    start_time_python = time.time()\n",
    "    trajdata_python = traj_dip.get_trajectory(dt=dt, max_step=max_step, use_python=True)  \n",
    "    stop_time_python = time.time()\n",
    "    time_python_dip += stop_time_python - start_time_python\n",
    "    # evaluate for the C++ version unvectorized\n",
    "    start_time_cpp_novec = time.time()\n",
    "    trajdata_cpp_novec = traj_dip.get_trajectory(dt=dt, max_step=max_step, use_unvectorized=True)  \n",
    "    stop_time_cpp_novec = time.time()\n",
    "    time_cpp_novec_dip += stop_time_cpp_novec - start_time_cpp_novec\n",
    "    # evaluate for the C++ version vectorized\n",
    "    start_time_cpp_vec = time.time()\n",
    "    trajdata_cpp_vec = traj_dip.get_trajectory(dt=dt, max_step=max_step)  \n",
    "    stop_time_cpp_vec = time.time()\n",
    "    time_cpp_vec_dip += stop_time_cpp_vec - start_time_cpp_vec"
   ]
  },
  {
   "cell_type": "code",
   "execution_count": null,
   "metadata": {},
   "outputs": [],
   "source": [
    "# get the average values for each of the results\n",
    "avg_timearr_dip = np.array([time_python_dip, time_cpp_novec_dip, time_cpp_vec_dip]) / max_iter\n",
    "avg_timearr_dip = np.array([time_cpp_novec_dip, time_cpp_vec_dip]) / max_iter\n",
    "rel_avgtime_dip = avg_timearr_dip / avg_timearr_dip[-1]"
   ]
  },
  {
   "cell_type": "code",
   "execution_count": null,
   "metadata": {},
   "outputs": [],
   "source": [
    " # the labels, needs to be modified every time different modification is used\n",
    "labels = [\"Python (Vector)\", \"C++ (non-Vector)\", \"C++ (Vector)\"] \n",
    "labels = [\"C++ (non-Vector)\", \"C++ (Vector)\"] \n",
    "label_pos = np.arange(len(labels))\n",
    "width = 0.35\n",
    "# plot the histogram comparing the two values\n",
    "fig, ax = plt.subplots(figsize=(12,9))\n",
    "fig.patch.set_facecolor('white')  # to make saved plot have all white bg\n",
    "bar = ax.bar(label_pos, avg_timearr_dip, width)\n",
    "# ax.bar(label_pos, rel_avgtime_dip, width)\n",
    "ax.set_xticks(label_pos)\n",
    "ax.set_xticklabels(labels)\n",
    "ax.set_ylabel(\"Time [s]\")\n",
    "# ax.set_ylabel(\"Scale Factor relative to {:s} result\".format(labels[-1]))\n",
    "ax.set_title(\"Performance benchmark of trajectory calculation with dipole magnetic field for {:d} iterations\".format(max_iter))\n",
    "\n",
    "autolabels(bar)  # add labels at top of bar chart\n",
    "\n",
    "PLOT_DIR = os.path.join(os.getcwd(), \"..\", \"..\", \"..\", \"gtracr_plots\")\n",
    "\n",
    "savefig_labels = [\"pyvec\", \"cpp_novec\", \"cpp_vec\"]\n",
    "plt.savefig(os.path.join(PLOT_DIR, \"traj_performance_benchmark.png\"), bbox_inches='tight')"
   ]
  },
  {
   "cell_type": "code",
   "execution_count": null,
   "metadata": {},
   "outputs": [],
   "source": []
  }
 ],
 "metadata": {
  "kernelspec": {
   "display_name": "Python 3",
   "language": "python",
   "name": "python3"
  },
  "language_info": {
   "codemirror_mode": {
    "name": "ipython",
    "version": 3
   },
   "file_extension": ".py",
   "mimetype": "text/x-python",
   "name": "python",
   "nbconvert_exporter": "python",
   "pygments_lexer": "ipython3",
   "version": "3.8.2"
  }
 },
 "nbformat": 4,
 "nbformat_minor": 4
}
