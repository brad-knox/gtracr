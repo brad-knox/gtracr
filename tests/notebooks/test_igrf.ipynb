{
 "cells": [
  {
   "cell_type": "code",
   "execution_count": 59,
   "metadata": {},
   "outputs": [],
   "source": [
    "import sys, os\n",
    "import numpy as np\n",
    "import matplotlib.pyplot as plt\n",
    "import json\n",
    "from scipy.special import lpmn  # associated legendre polynomial in sequence\n",
    "\n",
    "# sys.path.append(os.getcwd())\n",
    "# sys.path.append(os.path.join(os.getcwd(), \"..\"))\n",
    "# sys.path.append(os.path.join(os.getcwd(), \"..\", \"gtracr\"))\n",
    "\n",
    "from gtracr.trajectory import Trajectory"
   ]
  },
  {
   "cell_type": "code",
   "execution_count": 119,
   "metadata": {},
   "outputs": [
    {
     "name": "stdout",
     "output_type": "stream",
     "text": [
      "['IGRF13.txt', 'igrf13_coeffs.json']\n"
     ]
    }
   ],
   "source": [
    "# where the data is stored\n",
    "data_path = os.path.join(os.getcwd(), \"..\", \"..\", \"data\")\n",
    "print(os.listdir(data_path))\n",
    "# we want to store the data as a .json format\n",
    "# so lets convert the original data, saved as a .txt file\n",
    "# and save it as a .json file now.\n",
    "N = 13   #the degree of truncation\n",
    "\n",
    "yearly_coeffdict = {\n",
    "    \"g\": {\n",
    "        \"values\":np.zeros((N+1,N+1)).tolist(), \n",
    "        \"svp\":np.zeros((N+1, N+1)).tolist()\n",
    "    },          \n",
    "    \"h\": {\n",
    "        \"values\":np.zeros((N+1,N+1)).tolist(), \n",
    "        \"svp\":np.zeros((N+1, N+1)).tolist()\n",
    "    }  \n",
    "}\n",
    "\n",
    "with open(os.path.join(data_path, \"IGRF13.txt\"), \"r\") as f:\n",
    "    for i, line in enumerate(f.readlines()):\n",
    "        # skip if we see \"#\" symbol (indicates comments)\n",
    "        # or any line before dates (extra information thats not needed)\n",
    "        if line[0] == \"#\" or i < 4:  # a comment\n",
    "            continue\n",
    "        # get the years of the magnetic field coefficient data as keys to our dictionary\n",
    "        # here we also construct 2 separate arrays for the 'g' and 'h' coefficients\n",
    "        # presented as a 13x14 data structure (14 to account for m=0 case)\n",
    "        # the matrix will be sparse, but would allow for easier calculations this way\n",
    "        elif i == 4:\n",
    "            years = np.fromstring(line, sep=' ')\n",
    "#             print(years)\n",
    "            igrfcoeff_dict = {int(year) : yearly_coeffdict for year in years}\n",
    "        \n",
    "        # else we store the coeffieicents in array of shape ((N=13, N=13))\n",
    "        # for corresponding n and m values for the coefficients\n",
    "        elif i > 4:\n",
    "            line_data = np.fromstring(line, sep=' ')\n",
    "            (n,m) = line_data[:2].astype(int)\n",
    "#             print(n,m)\n",
    "            coeff_data = line_data[2:]\n",
    "    \n",
    "            row_index = n  # we consider n=0 case as well for Legendre polynomial to work\n",
    "        \n",
    "            if m < 0:   # m < 0 since we indicate h coefficeint with m < 0\n",
    "                coeff_var = \"h\"\n",
    "                column_index = -m\n",
    "            else:\n",
    "                coeff_var = \"g\"\n",
    "                column_index = m\n",
    "            for j, coeff in enumerate(coeff_data):\n",
    "                # append coeffients to year array in coefficient dictionary\n",
    "                list(igrfcoeff_dict.values())[j][coeff_var][\"values\"][row_index][column_index] = coeff\n",
    "                \n",
    "                # evaluate the secular variation parameter (svp)\n",
    "                # (gnm(T0+5) - gnm(T0-5)) / 2*5 from midpoint method\n",
    "                if j > 0 and j < len(coeff_data)-1:\n",
    "                    svp_mn = (coeff_data[j+1] - coeff_data[j-1]) / 10.\n",
    "                    list(igrfcoeff_dict.values())[j][coeff_var][\"svp\"][row_index][column_index] = svp_mn"
   ]
  },
  {
   "cell_type": "code",
   "execution_count": 120,
   "metadata": {},
   "outputs": [],
   "source": [
    "# dump to json file so that we can use this again\n",
    "\n",
    "with open(os.path.join(data_path, \"igrf13_coeffs.json\"), \"w\") as f:\n",
    "    json.dump(igrfcoeff_dict, f, indent=2)"
   ]
  },
  {
   "cell_type": "code",
   "execution_count": 121,
   "metadata": {},
   "outputs": [
    {
     "name": "stdout",
     "output_type": "stream",
     "text": [
      "dict_keys(['1900', '1905', '1910', '1915', '1920', '1925', '1930', '1935', '1940', '1945', '1950', '1955', '1960', '1965', '1970', '1975', '1980', '1985', '1990', '1995', '2000', '2005', '2010', '2015', '2020', '2025'])\n"
     ]
    }
   ],
   "source": [
    "# open the json file\n",
    "# this works properly :)\n",
    "with open(os.path.join(data_path, \"igrf13_coeffs.json\"), \"r\") as f:\n",
    "    igrfcoeff_dict = json.load(f)\n",
    "print(igrfcoeff_dict.keys())"
   ]
  },
  {
   "cell_type": "code",
   "execution_count": 122,
   "metadata": {},
   "outputs": [
    {
     "name": "stdout",
     "output_type": "stream",
     "text": [
      "[1900 1905 1910 1915 1920 1925 1930 1935 1940 1945 1950 1955 1960 1965\n",
      " 1970 1975 1980 1985 1990 1995 2000 2005 2010 2015 2020 2025]\n"
     ]
    }
   ],
   "source": [
    "# modify the Gauss coefficients to get the secular variation of the coeffiencts\n",
    "# they obey the form gnm(t) = gnm(T0) + gnm'(T0)*(t-T0)\n",
    "# i.e. a linear relationship\n",
    "# where gnm'(T0) is the secular variation\n",
    "# approximated by (gnm(T0+5) - gnm(T0-5)) / 2*5 \n",
    "# using midpoint method (since we have data in 5 year intervals)\n",
    "# T0 is the epoch directly preceding t \n",
    "# for example if t = 2016, then T0 = 2015\n",
    "\n",
    "# g, h array\n",
    "years = np.array(list(igrfcoeff_dict.keys())).astype(int)\n",
    "print(years)\n",
    "# g_arr = np.array([list(igrfcoeff_dict.values())[i][\"g\"] for i in range(len(years))])\n",
    "# h_arr = np.array([list(igrfcoeff_dict.values())[i][\"h\"]for i in range(len(years))])\n",
    "\n",
    "# print(g_arr)\n",
    "\n",
    "# the Gauss coefficient at a certain n, m\n",
    "# t is in years (0 being at 0 A.D.)\n",
    "# coeff_var is either \"g\" or \"h\", should complain if either\n",
    "# of these are not provided\n",
    "# n,m are in convention with the legendre polynomials as well as the array\n",
    "# index itself\n",
    "# some condition to limit t < 1905 or t > 2020 should be implemented\n",
    "def gauss_coeff(t, coeff_var, n, m):\n",
    "    \n",
    "    # complain if g or h not provided\n",
    "    if coeff_var.find(\"g\") < 0 and coeff_var.find(\"h\") < 0:\n",
    "        raise Exception(\"Only correct Gauss coefficient inputs (g or h) are valid!\")\n",
    "        \n",
    "    # complain if time is greater / less than allowed\n",
    "    if t < 1905 or t > 2020:\n",
    "        raise Exception(\"Invalid time scale, lower or raise timescale!\")\n",
    "    \n",
    "    nearest_index = np.argmin(np.abs(years - t))\n",
    "    epoch = years[nearest_index]   # T0\n",
    "    \n",
    "    print(epoch)\n",
    "    \n",
    "    epoch_coeff = igrfcoeff_dict[str(epoch)][coeff_var][\"values\"][n][m]  # gnm(T0)\n",
    "    \n",
    "#     epoch_sv = (igrfcoeff_dict[str(epoch+5)][coeff_var][n][m] - igrfcoeff_dict[str(epoch-5)][coeff_var][n][m]) / 10  # (gnm(T0+5) - gnm(T0-5)) / 2*5  \n",
    "    epoch_svp = igrfcoeff_dict[str(epoch)][coeff_var][\"svp\"][n][m]  # gmn'(t), secular variation parameter\n",
    "    \n",
    "    return epoch_coeff + epoch_svp * (t - epoch)\n"
   ]
  },
  {
   "cell_type": "code",
   "execution_count": 124,
   "metadata": {},
   "outputs": [
    {
     "name": "stdout",
     "output_type": "stream",
     "text": [
      "2015\n",
      "1667.485\n"
     ]
    }
   ],
   "source": [
    "print(gauss_coeff(2014, \"g\", 2, 2))"
   ]
  },
  {
   "cell_type": "code",
   "execution_count": null,
   "metadata": {},
   "outputs": [],
   "source": [
    "# define global variables\n",
    "RE = 6.3712 * (1e6)\n",
    "N = 13   # degree of truncation"
   ]
  },
  {
   "cell_type": "code",
   "execution_count": null,
   "metadata": {},
   "outputs": [],
   "source": [
    "# define the magnetic field components\n",
    "# in spherical coordinates\n",
    "# inputs are the 3-vector (r, theta, phi) + time t\n",
    "\n",
    "# the r component\n",
    "def Br(t, r, theta, phi):\n",
    "    # array of associated legendre polynomials\n",
    "    # ranging from 0 to 13 (inclusive) for both m and n\n",
    "    # at cos(theta)\n",
    "    lp_mn, _ = lpmn(N, N, np.cos(theta))  "
   ]
  }
 ],
 "metadata": {
  "kernelspec": {
   "display_name": "Python 3",
   "language": "python",
   "name": "python3"
  },
  "language_info": {
   "codemirror_mode": {
    "name": "ipython",
    "version": 3
   },
   "file_extension": ".py",
   "mimetype": "text/x-python",
   "name": "python",
   "nbconvert_exporter": "python",
   "pygments_lexer": "ipython3",
   "version": "3.8.2"
  }
 },
 "nbformat": 4,
 "nbformat_minor": 4
}
