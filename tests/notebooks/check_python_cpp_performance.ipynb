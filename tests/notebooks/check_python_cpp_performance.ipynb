{
 "cells": [
  {
   "cell_type": "code",
   "execution_count": 1,
   "metadata": {},
   "outputs": [],
   "source": [
    "# check the performance benchmarks between two versions\n",
    "import os, sys\n",
    "import numpy as np\n",
    "import matplotlib.pyplot as plt\n",
    "\n",
    "sys.path.append(os.getcwd())\n",
    "sys.path.append(os.path.join(os.getcwd(), \"..\", \"..\"))\n",
    "sys.path.append(os.path.join(os.getcwd(), \"..\", \"..\", \"gtracr\"))\n",
    "\n",
    "from trajectory import Trajectory\n",
    "from constants import EARTH_RADIUS\n",
    "\n",
    "import time"
   ]
  },
  {
   "cell_type": "code",
   "execution_count": 2,
   "metadata": {},
   "outputs": [],
   "source": [
    "traj1 = Trajectory(\n",
    "        \"p+\",\n",
    "        latitude=0.,\n",
    "        longitude=0.,\n",
    "        detector_altitude=100.,\n",
    "        zenith_angle=0.,\n",
    "        azimuth_angle=0.,\n",
    "        particle_altitude=100.,\n",
    "        rigidity=40.,\n",
    "        bfield_type=\"dipole\"\n",
    "    )\n",
    "\n",
    "traj2 = Trajectory(\n",
    "        \"p+\",\n",
    "        latitude=0.,\n",
    "        longitude=0.,\n",
    "        detector_altitude=100.,\n",
    "        zenith_angle=0.,\n",
    "        azimuth_angle=0.,\n",
    "        particle_altitude=100.,\n",
    "        rigidity=40.,\n",
    "        bfield_type=\"dipole\"\n",
    "    )"
   ]
  },
  {
   "cell_type": "code",
   "execution_count": 5,
   "metadata": {},
   "outputs": [],
   "source": [
    "max_iter = 100    # maximum number of iterations\n",
    "# initialize performance benchmark time arrays\n",
    "time_arr1 = np.zeros(max_iter)\n",
    "time_arr2 = np.zeros(max_iter)"
   ]
  },
  {
   "cell_type": "code",
   "execution_count": 6,
   "metadata": {},
   "outputs": [],
   "source": [
    "for i in range(max_iter):\n",
    "    # evaluate for the first trajectory type\n",
    "    start_time1 = time.time()\n",
    "    trajdata1 = traj1.get_trajectory(dt=1e-5, max_time=0.05, max_step=1000, use_python=True)  # 1000 iterations with dt=1e-5, max_time=0.05s\n",
    "    stop_time1 = time.time()\n",
    "    time_arr1[i] = stop_time1 - start_time1\n",
    "    # evaluate for the second trajectory type\n",
    "    start_time2 = time.time()\n",
    "    trajdata2 = traj2.get_trajectory(dt=1e-5, max_time=0.05, max_step=1000)  # 1000 iterations with dt=1e-5, max_time=0.05s\n",
    "    stop_time2 = time.time()\n",
    "    time_arr2[i] = stop_time2 - start_time2"
   ]
  },
  {
   "cell_type": "code",
   "execution_count": 19,
   "metadata": {},
   "outputs": [],
   "source": [
    "# get the average value of the time for each trajectory version\n",
    "avg_time1 = np.sum(time_arr1) / max_iter\n",
    "avg_time2 = np.sum(time_arr2) / max_iter\n",
    "\n",
    "avg_timearr = np.array([avg_time1, avg_time2]) / avg_time2   # normalized to C++ version"
   ]
  },
  {
   "cell_type": "code",
   "execution_count": 23,
   "metadata": {},
   "outputs": [
    {
     "data": {
      "image/png": "[encoded data removed]",
      "text/plain": [
       "<Figure size 864x648 with 1 Axes>"
      ]
     },
     "metadata": {},
     "output_type": "display_data"
    }
   ],
   "source": [
    " # the labels, needs to be modified every time different modification is used\n",
    "labels = [\"Python (Vector)\", \"C++ (non-Vector)\"] \n",
    "label_pos = np.arange(len(labels))\n",
    "width = 0.5\n",
    "# plot the histogram comparing the two values\n",
    "fig, ax = plt.subplots(figsize=(12,9))\n",
    "fig.patch.set_facecolor('white')\n",
    "ax.bar(label_pos, avg_timearr, width)\n",
    "ax.set_xticks(label_pos)\n",
    "ax.set_xticklabels(labels)\n",
    "# ax.set_ylabel(\"Time [s]\")\n",
    "ax.set_ylabel(\"Scale Factor relative to {:s} result\".format(labels[1]))\n",
    "ax.set_title(\"Performance benchmark between {:s} and {:s} for {:d} iterations\".format(*labels, max_iter))\n",
    "\n",
    "PLOT_DIR = os.path.join(os.getcwd(), \"..\", \"..\", \"..\", \"gtracr_plots\")\n",
    "\n",
    "savefig_labels = [\"pyvec\", \"cpp_novec\"]\n",
    "plt.savefig(os.path.join(PLOT_DIR, \"{:s}_vs_{:s}_benchmark.png\".format(*savefig_labels)), bbox_inches='tight')"
   ]
  },
  {
   "cell_type": "code",
   "execution_count": 13,
   "metadata": {},
   "outputs": [
    {
     "data": {
      "text/plain": [
       "<Figure size 432x288 with 0 Axes>"
      ]
     },
     "metadata": {},
     "output_type": "display_data"
    }
   ],
   "source": []
  },
  {
   "cell_type": "code",
   "execution_count": null,
   "metadata": {},
   "outputs": [],
   "source": [
    "for i in range(max_iter):\n",
    "    start_time2 = time.time()\n",
    "    trajdata2 = traj2.get_trajectory(dt=1e-5, max_time=0.05, max_step=10000, use_python=True)  # 1000 iterations with dt=1e-5, max_time=0.05s\n",
    "    stop_time2 = time.time()\n",
    "    time_arr2[i] = stop_time2 - start_time2"
   ]
  }
 ],
 "metadata": {
  "kernelspec": {
   "display_name": "Python 3",
   "language": "python",
   "name": "python3"
  },
  "language_info": {
   "codemirror_mode": {
    "name": "ipython",
    "version": 3
   },
   "file_extension": ".py",
   "mimetype": "text/x-python",
   "name": "python",
   "nbconvert_exporter": "python",
   "pygments_lexer": "ipython3",
   "version": "3.8.2"
  }
 },
 "nbformat": 4,
 "nbformat_minor": 4
}
