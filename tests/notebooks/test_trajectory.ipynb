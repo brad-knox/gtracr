{
 "cells": [
  {
   "cell_type": "code",
   "execution_count": 11,
   "metadata": {},
   "outputs": [],
   "source": [
    "import os, sys\n",
    "import numpy as np\n",
    "import matplotlib.pyplot as plt\n",
    "\n",
    "# define global variables\n",
    "SPEED_OF_LIGHT = 3e8\n",
    "ELEMENTARY_CHARGE = 1.602e-19\n",
    "EARTH_RADIUS = 6.371 * (1e6)\n",
    "RAD_PER_DEG = np.pi / 180.\n",
    "KG_PER_GEVC2 = 1.78e-27\n",
    "KGMS_PER_GEVC = 5.36e-19\n",
    "\n",
    "KEY_LIST = [\"t\", \"r\", \"theta\", \"phi\", \"pr\", \"ptheta\", \"pphi\"]\n",
    "\n",
    "# define the spherical components of Earth magnetic field\n",
    "G10 = 2.91e-5  # value of B-field at center of Earth\n"
   ]
  },
  {
   "cell_type": "code",
   "execution_count": 12,
   "metadata": {},
   "outputs": [],
   "source": [
    "def Br(r, theta, phi):\n",
    "    return -2. * (EARTH_RADIUS / r)**3. * G10 * np.cos(theta)\n",
    "\n",
    "\n",
    "def Btheta(r, theta, phi):\n",
    "    return -(EARTH_RADIUS / r)**3. * G10 * np.sin(theta)\n",
    "\n",
    "\n",
    "def Bphi(r, theta, phi):\n",
    "    return 0.\n"
   ]
  },
  {
   "cell_type": "code",
   "execution_count": 70,
   "metadata": {},
   "outputs": [],
   "source": [
    "# ODEs in spherical coordinates,\n",
    "# based on lorentz force and the form of\n",
    "# acceleration in spherical coordinates\n",
    "def drdt(pr):\n",
    "    return pr\n",
    "\n",
    "\n",
    "def dthetadt(r, ptheta):\n",
    "    return ptheta / r\n",
    "\n",
    "\n",
    "def dphidt(r, theta, pphi):\n",
    "    # dphi_dt = 0.0 if abs(theta) < 1e-12 else pphi / (r * np.sin(theta))\n",
    "    return pphi / (r * np.sin(theta))\n",
    "\n",
    "\n",
    "def dprdt(charge, r, theta, phi, pr, ptheta, pphi):\n",
    "    lorentz_term = charge * (ptheta * Bphi(r, theta, phi) -\n",
    "                             pphi * Btheta(r, theta, phi))\n",
    "    auxiliary_terms = (ptheta**2. / r) + (pphi**2. / r)\n",
    "    return lorentz_term + auxiliary_terms\n",
    "\n",
    "\n",
    "def dpthetadt(charge, r, theta, phi, pr, ptheta, pphi):\n",
    "    lorentz_term = -charge * (pr * Bphi(r, theta, phi) -\n",
    "                              pphi * Br(r, theta, phi))\n",
    "    auxiliary_terms = (pphi**2. / (r * np.tan(theta))) - ((pr * ptheta) / r)\n",
    "    return lorentz_term + auxiliary_terms\n",
    "\n",
    "\n",
    "def dpphidt(charge, r, theta, phi, pr, ptheta, pphi):\n",
    "    lorentz_term = charge * (pr * Btheta(r, theta, phi) -\n",
    "                             ptheta * Br(r, theta, phi))\n",
    "    auxiliary_terms = ((pr * pphi) / r) + ((ptheta * pphi) /\n",
    "                                           (r * np.tan(theta)))\n",
    "    return lorentz_term - auxiliary_terms"
   ]
  },
  {
   "cell_type": "code",
   "execution_count": 162,
   "metadata": {},
   "outputs": [],
   "source": [
    "# convert between coordinates defined in detector frame with geocentric coordinates\n",
    "def detector_to_geocentric(lat, lng, detector_alt, zenith, azimuth,\n",
    "                           particle_alt, momentum):\n",
    "\n",
    "    # first convert angles (latitude, longitude, zenith, azimuth)\n",
    "    # to radians\n",
    "    lat *= RAD_PER_DEG\n",
    "    lng *= RAD_PER_DEG\n",
    "    zenith *= RAD_PER_DEG\n",
    "    azimuth *= RAD_PER_DEG\n",
    "\n",
    "    # now convert the coordinates / momentum\n",
    "    # this can realistically be done in one step by utilizing matrix multiplication\n",
    "    # with transformation matrices between cartesian, geodesic, and spherical\n",
    "\n",
    "    # convert detector latitude, longitude, altitude into cartesian\n",
    "    detector_x = (detector_alt + EARTH_RADIUS) * np.cos(lat) * np.cos(lng)\n",
    "    detector_y = (detector_alt + EARTH_RADIUS) * np.cos(lat) * np.sin(lng)\n",
    "    detector_z = (detector_alt + EARTH_RADIUS) * np.sin(lat)\n",
    "\n",
    "    detector_geoc_coord = np.array([detector_x, detector_y, detector_z])\n",
    "\n",
    "    # convert zenith, azimuth, and particle altitude to cartesian in detector frame\n",
    "    particle_detector_x = (particle_alt +\n",
    "                           EARTH_RADIUS) * np.sin(zenith) * np.cos(azimuth)\n",
    "    particle_detector_y = (particle_alt +\n",
    "                           EARTH_RADIUS) * np.sin(zenith) * np.sin(azimuth)\n",
    "    particle_detector_z = (particle_alt + EARTH_RADIUS) * np.cos(zenith)\n",
    "\n",
    "    particle_detector_coord = np.array(\n",
    "        [particle_detector_x, particle_detector_y, particle_detector_z])\n",
    "\n",
    "    # the transformation matrix between detector frame and geodesic coordinates\n",
    "    row1 = np.array(\n",
    "        [-np.sin(lng), -np.cos(lng) * np.sin(lat),\n",
    "         np.cos(lat) * np.cos(lng)])\n",
    "    row2 = np.array(\n",
    "        [np.cos(lng), -np.sin(lat) * np.sin(lng),\n",
    "         np.cos(lat) * np.sin(lng)])\n",
    "    row3 = np.array([0., np.cos(lat), np.sin(lat)])\n",
    "\n",
    "    transform_matrix = np.array([row1, row2, row3])\n",
    "    \n",
    "    print(transform_matrix)\n",
    "\n",
    "    # now get the transformed coordinate vector in geocentric frame\n",
    "    (particle_geoc_x,\n",
    "     particle_geoc_y, particle_geoc_z) = detector_geoc_coord + np.dot(\n",
    "         transform_matrix, particle_detector_coord)\n",
    "\n",
    "    particle_r = np.sqrt(particle_geoc_x**2. + particle_geoc_y**2. +\n",
    "                         particle_geoc_z**2.)\n",
    "    particle_theta = np.arccos(particle_geoc_z / particle_r)\n",
    "    particle_phi = np.arctan2(particle_geoc_y, particle_geoc_x)\n",
    "\n",
    "    # now for momentum\n",
    "    # convert the direction of the momentum of the particle (defined by zenith and azimuth angles)\n",
    "    # with the magnitude of the momentum (obtained by energy / rigidity)\n",
    "    particle_detector_px = momentum * np.sin(zenith) * np.cos(azimuth)\n",
    "    particle_detector_py = momentum * np.sin(zenith) * np.sin(azimuth)\n",
    "    particle_detector_pz = momentum * np.cos(zenith)\n",
    "\n",
    "    particle_detector_momentum = np.array(\n",
    "        [particle_detector_px, particle_detector_py, particle_detector_pz])\n",
    "    \n",
    "    print(particle_detector_momentum)\n",
    "\n",
    "    # now transform the momentum vector into geocentric frame\n",
    "    (particle_geoc_px, particle_geoc_py,\n",
    "     particle_geoc_pz) = np.dot(transform_matrix, particle_detector_momentum)\n",
    "    \n",
    "    print(particle_geoc_px, particle_geoc_py,\n",
    "     particle_geoc_pz)\n",
    "\n",
    "    # here we should have conversion between cartesian and spherical again\n",
    "    # but for momenta its more complicated\n",
    "    # double check if this is actually correct (like the /r , /rsin(theta) parts)\n",
    "    #  -> this is fixed, it should be removed to keep units consistent\n",
    "    particle_pr = particle_geoc_px * np.sin(particle_theta) * np.cos(particle_phi) + \\\n",
    "            particle_geoc_py * np.sin(particle_theta) * np.sin(particle_phi) + \\\n",
    "            particle_geoc_pz * np.cos(particle_theta)\n",
    "    \n",
    "    particle_ptheta = (\n",
    "        particle_geoc_px * np.cos(particle_theta) * np.cos(particle_phi) +\n",
    "        particle_geoc_py * np.cos(particle_theta) * np.sin(particle_phi) -\n",
    "        particle_geoc_pz * np.sin(particle_theta))\n",
    "    particle_pphi = (-particle_geoc_px * np.sin(particle_phi) +\n",
    "                     particle_geoc_py * np.cos(particle_phi))\n",
    "    \n",
    "    particle_sixvector = np.array([\n",
    "        particle_r, particle_theta, particle_phi, particle_pr, particle_ptheta,\n",
    "        particle_pphi\n",
    "    ])\n",
    "\n",
    "    return particle_sixvector"
   ]
  },
  {
   "cell_type": "code",
   "execution_count": 163,
   "metadata": {},
   "outputs": [],
   "source": [
    "# perform the Runge kutta sequence\n",
    "def perform_runge_kutta(mass, charge, t0, initial_sixvec, dt, max_iter):\n",
    "    # define array to append to\n",
    "    # t_arr = np.zeros(max_iter)\n",
    "    # r_arr = np.zeros(max_iter)\n",
    "    # theta_arr = np.zeros(max_iter)\n",
    "    # phi_arr = np.zeros(max_iter)\n",
    "    # pr_arr = np.zeros(max_iter)\n",
    "    # ptheta_arr = np.zeros(max_iter)\n",
    "    # pphi_arr = np.zeros(max_iter)\n",
    "\n",
    "    traj_dict = {key: [] for key in KEY_LIST}\n",
    "\n",
    "    # define the initial values\n",
    "    t = t0\n",
    "    r = initial_sixvec[0]\n",
    "    theta = initial_sixvec[1]\n",
    "    phi = initial_sixvec[2]\n",
    "    pr = initial_sixvec[3]\n",
    "    ptheta = initial_sixvec[4]\n",
    "    pphi = initial_sixvec[5]\n",
    "\n",
    "    # get the relativistic mass (mass * lorentz factor)\n",
    "    # to do this we get magnitude of momentum\n",
    "    # since no acceleration should occur, lorentz factor will\n",
    "    # remain constant, so it can be defined here\n",
    "    p = np.sqrt(pr**2. + ptheta**2. + pphi**2.)\n",
    "    print(p)\n",
    "    # print(mass * SPEED_OF_LIGHT)\n",
    "    gamma = np.sqrt(1. + (p / (mass * SPEED_OF_LIGHT))**2.)\n",
    "\n",
    "    print(\"Lorentz factor: {:.10e}\\n\".format(gamma))\n",
    "    rel_mass = mass * gamma\n",
    "\n",
    "    # perform the integration process\n",
    "    for i in range(max_iter):\n",
    "        # first append the values to the array\n",
    "        traj_dict[\"t\"].append(t)\n",
    "        traj_dict[\"r\"].append(r)\n",
    "        traj_dict[\"theta\"].append(theta)\n",
    "        traj_dict[\"phi\"].append(phi)\n",
    "        traj_dict[\"pr\"].append(pr)\n",
    "        traj_dict[\"ptheta\"].append(ptheta)\n",
    "        traj_dict[\"pphi\"].append(pphi)\n",
    "\n",
    "        # perform runge kutta steps\n",
    "\n",
    "        # first runge kutta variable\n",
    "        r_k1 = dt * drdt(pr)\n",
    "        theta_k1 = dt * dthetadt(r, ptheta)\n",
    "        phi_k1 = dt * dphidt(r, theta, pphi)\n",
    "        pr_k1 = dt * dprdt(charge, r, theta, phi, pr, ptheta, pphi)\n",
    "        ptheta_k1 = dt * dpthetadt(charge, r, theta, phi, pr, ptheta, pphi)\n",
    "        pphi_k1 = dt * dpphidt(charge, r, theta, phi, pr, ptheta, pphi)\n",
    "\n",
    "        # second runge kutta variable\n",
    "        r_k2 = dt * drdt(pr + 0.5 * pr_k1)\n",
    "        theta_k2 = dt * dthetadt(r + 0.5 * r_k1, ptheta + 0.5 * ptheta_k1)\n",
    "        phi_k2 = dt * dphidt(r + 0.5 * r_k1, theta + 0.5 * theta_k1,\n",
    "                             pphi + 0.5 * pphi_k1)\n",
    "        pr_k2 = dt * dprdt(charge, r + 0.5 * r_k1, theta + 0.5 * theta_k1,\n",
    "                           phi + 0.5 * phi_k1, pr + 0.5 * pr_k1,\n",
    "                           ptheta + 0.5 * ptheta_k1, pphi + 0.5 * pphi_k1)\n",
    "        ptheta_k2 = dt * dpthetadt(\n",
    "            charge, r + 0.5 * r_k1, theta + 0.5 * theta_k1, phi + 0.5 * phi_k1,\n",
    "            pr + 0.5 * pr_k1, ptheta + 0.5 * ptheta_k1, pphi + 0.5 * pphi_k1)\n",
    "        pphi_k2 = dt * dpphidt(charge, r + 0.5 * r_k1, theta + 0.5 * theta_k1,\n",
    "                               phi + 0.5 * phi_k1, pr + 0.5 * pr_k1,\n",
    "                               ptheta + 0.5 * ptheta_k1, pphi + 0.5 * pphi_k1)\n",
    "\n",
    "        # third runge kutta variable\n",
    "        r_k3 = dt * drdt(pr + 0.5 * pr_k2)\n",
    "        theta_k3 = dt * dthetadt(r + 0.5 * r_k2, ptheta + 0.5 * ptheta_k2)\n",
    "        phi_k3 = dt * dphidt(r + 0.5 * r_k2, theta + 0.5 * theta_k2,\n",
    "                             pphi + 0.5 * pphi_k2)\n",
    "        pr_k3 = dt * dprdt(charge, r + 0.5 * r_k2, theta + 0.5 * theta_k2,\n",
    "                           phi + 0.5 * phi_k2, pr + 0.5 * pr_k2,\n",
    "                           ptheta + 0.5 * ptheta_k2, pphi + 0.5 * pphi_k2)\n",
    "        ptheta_k3 = dt * dpthetadt(\n",
    "            charge, r + 0.5 * r_k2, theta + 0.5 * theta_k2, phi + 0.5 * phi_k2,\n",
    "            pr + 0.5 * pr_k2, ptheta + 0.5 * ptheta_k2, pphi + 0.5 * pphi_k2)\n",
    "        pphi_k3 = dt * dpphidt(charge, r + 0.5 * r_k2, theta + 0.5 * theta_k2,\n",
    "                               phi + 0.5 * phi_k2, pr + 0.5 * pr_k2,\n",
    "                               ptheta + 0.5 * ptheta_k2, pphi + 0.5 * pphi_k2)\n",
    "\n",
    "        # forth runge kutta variable\n",
    "        r_k4 = dt * drdt(pr + pr_k3)\n",
    "        theta_k4 = dt * dthetadt(r + r_k3, ptheta + ptheta_k3)\n",
    "        phi_k4 = dt * dphidt(r + r_k3, theta + theta_k3, pphi + pphi_k3)\n",
    "        pr_k4 = dt * dprdt(charge, r + r_k3, theta + theta_k3, phi + phi_k3,\n",
    "                           pr + pr_k3, ptheta + ptheta_k3, pphi + pphi_k3)\n",
    "        ptheta_k4 = dt * dpthetadt(charge, r + r_k3, theta + theta_k3,\n",
    "                                   phi + phi_k3, pr + pr_k3,\n",
    "                                   ptheta + ptheta_k3, pphi + pphi_k3)\n",
    "        pphi_k4 = dt * dpphidt(charge, r + r_k3, theta + theta_k3,\n",
    "                               phi + phi_k3, pr + pr_k3, ptheta + ptheta_k3,\n",
    "                               pphi + pphi_k3)\n",
    "\n",
    "        # finally get the weighted sum of them\n",
    "        r_k = (1. / (6. * rel_mass)) * (r_k1 + 2. * r_k2 + 2. * r_k3 + r_k4)\n",
    "        theta_k = (1. / (6. * rel_mass)) * (theta_k1 + 2. * theta_k2 +\n",
    "                                            2. * theta_k3 + theta_k4)\n",
    "        phi_k = (1. / (6. * rel_mass)) * (phi_k1 + 2. * phi_k2 + 2. * phi_k3 +\n",
    "                                          phi_k4)\n",
    "        pr_k = (1. /\n",
    "                (6. * rel_mass)) * (pr_k1 + 2. * pr_k2 + 2. * pr_k3 + pr_k4)\n",
    "        ptheta_k = (1. / (6. * rel_mass)) * (ptheta_k1 + 2. * ptheta_k2 +\n",
    "                                             2. * ptheta_k3 + ptheta_k4)\n",
    "        pphi_k = (1. / (6. * rel_mass)) * (pphi_k1 + 2. * pphi_k2 +\n",
    "                                           2. * pphi_k3 + pphi_k4)\n",
    "\n",
    "        # increment by weighted sums (and stepsize for time)\n",
    "        r += r_k\n",
    "        theta += theta_k\n",
    "        phi += phi_k\n",
    "        pr += pr_k\n",
    "        ptheta += ptheta_k\n",
    "        pphi += pphi_k\n",
    "        t += dt\n",
    "        \n",
    "#         p = np.sqrt(pr**2. + (ptheta/r)**2. + (pphi/(r*np.sin(theta)))**2.)\n",
    "#         print(p / KGMS_PER_GEVC )\n",
    "#         print(ptheta / r)\n",
    "#         print(pphi)\n",
    "#         print(p)\n",
    "\n",
    "        # now check conditions for breaking the loop\n",
    "        # if particle has effectively escaped\n",
    "        if r > 10 * EARTH_RADIUS:\n",
    "            print(\"Allowed trajectory!\\n\")\n",
    "            print(r)\n",
    "            break\n",
    "\n",
    "        # if particle has reach back to earth\n",
    "        if r < EARTH_RADIUS:\n",
    "            print(\"Forbidden trajectory...\\n\")\n",
    "            print(r)\n",
    "            break\n",
    "\n",
    "    print(\"All iterations complete!\")\n",
    "\n",
    "    return traj_dict\n"
   ]
  },
  {
   "cell_type": "code",
   "execution_count": 164,
   "metadata": {},
   "outputs": [],
   "source": [
    "# convert the spherical coordinate versions of the trajectory obtained by integration\n",
    "# into cartesian to plot them\n",
    "def get_trajectory_cartesian(trajectory_dict):\n",
    "    trajectory_t = trajectory_dict[\"t\"]\n",
    "    trajectory_r = trajectory_dict[\"r\"]\n",
    "    trajectory_theta = trajectory_dict[\"theta\"]\n",
    "    trajectory_phi = trajectory_dict[\"phi\"]\n",
    "\n",
    "    trajectory_x = trajectory_r * np.sin(trajectory_theta) * np.cos(\n",
    "        trajectory_phi)\n",
    "    trajectory_y = trajectory_r * np.sin(trajectory_theta) * np.sin(\n",
    "        trajectory_phi)\n",
    "    trajectory_z = trajectory_r * np.cos(trajectory_theta)\n",
    "\n",
    "    # divide by radius of earth for better units\n",
    "    trajectory_x /= EARTH_RADIUS\n",
    "    trajectory_y /= EARTH_RADIUS\n",
    "    trajectory_z /= EARTH_RADIUS\n",
    "\n",
    "    return (trajectory_t, trajectory_x, trajectory_y, trajectory_z)"
   ]
  },
  {
   "cell_type": "code",
   "execution_count": 165,
   "metadata": {},
   "outputs": [],
   "source": [
    "# plot the trajectories\n",
    "def plot_trajectories(t_arr, x_arr, y_arr, z_arr):\n",
    "    fig_3d = plt.figure()\n",
    "    ax_3d = fig_3d.add_subplot(111, projection=\"3d\")\n",
    "    cm_3d = ax_3d.scatter(x_arr, y_arr, z_arr, c=t_arr, marker='o')\n",
    "    # ax_3d.scatter(x2, y2, z2, c=\"r\", marker='o')\n",
    "    cbar_3d = fig_3d.colorbar(cm_3d, ax=ax_3d)\n",
    "    # plt.colorbar()\n",
    "    # plt.savefig(\"test.png\")\n",
    "    ax_3d.set_xlim([-6, 6])\n",
    "    ax_3d.set_ylim([-6, 6])\n",
    "    ax_3d.set_zlim([-6, 6])\n",
    "    ax_3d.set_xlabel(r\"x [$R_E$]\")\n",
    "    ax_3d.set_ylabel(r\"y [$R_E$]\")\n",
    "    ax_3d.set_zlabel(r\"z [$R_E$]\")\n",
    "    cbar_3d.ax.set_ylabel(\"Time [s]\")\n",
    "    plt.show()\n",
    "\n",
    "    fig_xy, ax_xy = plt.subplots()\n",
    "    cm_xy = ax_xy.scatter(x_arr, y_arr, c=t_arr)\n",
    "    cbar_xy = fig_xy.colorbar(cm_xy, ax=ax_xy)\n",
    "    ax_xy.set_xlim([-6, 6])\n",
    "    ax_xy.set_ylim([-6, 6])\n",
    "    ax_xy.set_xlabel(r\"x [$R_E$]\")\n",
    "    ax_xy.set_ylabel(r\"y [$R_E$]\")\n",
    "    cbar_xy.ax.set_ylabel(\"Time [s]\")\n",
    "    plt.show()\n",
    "\n",
    "    fig_xz, ax_xz = plt.subplots()\n",
    "    cm_xz = ax_xz.scatter(x_arr, z_arr, c=t_arr)\n",
    "    cbar_xz = fig_xz.colorbar(cm_xz, ax=ax_xz)\n",
    "    ax_xz.set_xlim([-6, 6])\n",
    "    ax_xz.set_ylim([-6, 6])\n",
    "    ax_xz.set_xlabel(r\"x [$R_E$]\")\n",
    "    ax_xz.set_ylabel(r\"z [$R_E$]\")\n",
    "    cbar_xz.ax.set_ylabel(\"Time [s]\")\n",
    "    plt.show()\n",
    "\n",
    "    fig_yz, ax_yz = plt.subplots()\n",
    "    cm_yz = ax_yz.scatter(y_arr, x_arr, c=t_arr)\n",
    "    cbar_yz = fig_yz.colorbar(cm_yz, ax=ax_yz)\n",
    "    ax_yz.set_xlim([-6, 6])\n",
    "    ax_yz.set_ylim([-6, 6])\n",
    "    ax_yz.set_xlabel(r\"y [$R_E$]\")\n",
    "    ax_yz.set_ylabel(r\"z [$R_E$]\")\n",
    "    cbar_yz.ax.set_ylabel(\"Time [s]\")\n",
    "    plt.show()\n"
   ]
  },
  {
   "cell_type": "code",
   "execution_count": 195,
   "metadata": {},
   "outputs": [
    {
     "name": "stdout",
     "output_type": "stream",
     "text": [
      "1.66964e-27 1.602e-19\n",
      "5.36e-18\n"
     ]
    }
   ],
   "source": [
    "# define particle properties\n",
    "mass = 0.938 * KG_PER_GEVC2  # particle (rest) mass in kg\n",
    "charge = 1 * ELEMENTARY_CHARGE  # particle charge in coulombs\n",
    "\n",
    "print(mass, charge)\n",
    "\n",
    "# define the detector location\n",
    "detector_lat = 0.\n",
    "detector_lng = 0.\n",
    "detector_alt = 0.\n",
    "\n",
    "# define the zenith, azimuthal angle, and altitude in which particle comes from\n",
    "# defined within the local tangent plane of the detector\n",
    "particle_zenith = 90.\n",
    "particle_azimuth = 0.\n",
    "particle_altitude = 10.  # in km\n",
    "\n",
    "# define the energy / rigidity of the particle\n",
    "# energy = 10.\n",
    "rigidity = 10.\n",
    "\n",
    "# define the momentum (in magnitude, in SI units)\n",
    "momentum = rigidity * np.abs(1) * KGMS_PER_GEVC\n",
    "\n",
    "# momentum = 10. * KGMS_PER_GEVC\n",
    "\n",
    "print(momentum)"
   ]
  },
  {
   "cell_type": "code",
   "execution_count": 205,
   "metadata": {},
   "outputs": [
    {
     "name": "stdout",
     "output_type": "stream",
     "text": [
      "[[-0. -0.  1.]\n",
      " [ 1. -0.  0.]\n",
      " [ 0.  1.  0.]]\n",
      "[5.36000000e-18 0.00000000e+00 3.28205342e-34]\n",
      "3.2820534217149064e-34 5.36e-18 0.0\n",
      "[6371000.0, 1.5707963267948966, 0.0, 0.0, 0.0, 5.36e-18]\n"
     ]
    }
   ],
   "source": [
    "# get the initial values\n",
    "# this is obtained from the angles and location in geodesic coordinates\n",
    "# the returned value it the six-vector of the initial stage in the trajectory\n",
    "particle_initialvec = detector_to_geocentric(detector_lat, detector_lng,\n",
    "                                             detector_alt, particle_zenith,\n",
    "                                             particle_azimuth,\n",
    "                                             particle_altitude, momentum)\n",
    "\n",
    "particle_initialvec = [EARTH_RADIUS, np.pi / 2., 0., 0., 0., momentum]\n",
    "\n",
    "print(particle_initialvec)\n",
    "\n",
    "# particle_initialvec[3] = 0.0\n",
    "\n",
    "# set the initial time\n",
    "t0 = 0."
   ]
  },
  {
   "cell_type": "code",
   "execution_count": 206,
   "metadata": {},
   "outputs": [
    {
     "name": "stdout",
     "output_type": "stream",
     "text": [
      "5.36e-18\n",
      "Lorentz factor: 1.0747533009e+01\n",
      "\n",
      "All iterations complete!\n"
     ]
    }
   ],
   "source": [
    " # perform the runge_kutta sequence\n",
    "dt = 1e-5  # stepsize\n",
    "max_iter = 10000  # maximum number of iterations\n",
    "trajectory_dict = perform_runge_kutta(mass, charge, t0,\n",
    "                                      particle_initialvec, dt, max_iter)"
   ]
  },
  {
   "cell_type": "code",
   "execution_count": null,
   "metadata": {},
   "outputs": [],
   "source": []
  },
  {
   "cell_type": "code",
   "execution_count": 207,
   "metadata": {},
   "outputs": [
    {
     "name": "stdout",
     "output_type": "stream",
     "text": [
      "[1.         0.99999989 1.000001   ... 0.56772442 0.56736697 0.5670095 ] [ 0.00000000e+00  4.68840953e-04  9.37683152e-04 ... -3.30977771e+00\n",
      " -3.31008279e+00 -3.31038784e+00] [6.12323400e-17 6.12323400e-17 6.12324280e-17 ... 2.05625268e-16\n",
      " 2.05639981e-16 2.05654695e-16]\n"
     ]
    },
    {
     "data": {
      "image/png": "[encoded data removed]",
      "text/plain": [
       "<Figure size 432x288 with 2 Axes>"
      ]
     },
     "metadata": {
      "needs_background": "light"
     },
     "output_type": "display_data"
    },
    {
     "data": {
      "image/png": "[encoded data removed]",
      "text/plain": [
       "<Figure size 432x288 with 2 Axes>"
      ]
     },
     "metadata": {
      "needs_background": "light"
     },
     "output_type": "display_data"
    },
    {
     "data": {
      "image/png": "[encoded data removed]",
      "text/plain": [
       "<Figure size 432x288 with 2 Axes>"
      ]
     },
     "metadata": {
      "needs_background": "light"
     },
     "output_type": "display_data"
    },
    {
     "data": {
      "image/png": "[encoded data removed]",
      "text/plain": [
       "<Figure size 432x288 with 2 Axes>"
      ]
     },
     "metadata": {
      "needs_background": "light"
     },
     "output_type": "display_data"
    }
   ],
   "source": [
    " # convert spherical coordinate trajectory arrays back to cartesian for plotting\n",
    "(trajectory_t, trajectory_x, trajectory_y,\n",
    " trajectory_z) = get_trajectory_cartesian(trajectory_dict)\n",
    "\n",
    "print(trajectory_x, trajectory_y, trajectory_z)\n",
    "\n",
    "# plot the 3d plot and the projections onto each plane as well\n",
    "plot_trajectories(trajectory_t, trajectory_x, trajectory_y, trajectory_z)"
   ]
  },
  {
   "cell_type": "code",
   "execution_count": 39,
   "metadata": {},
   "outputs": [],
   "source": [
    "q = 1.602e-19\n",
    "Bz = 2.91e-5"
   ]
  },
  {
   "cell_type": "code",
   "execution_count": 40,
   "metadata": {},
   "outputs": [],
   "source": [
    "def dvxdt(vx, vy):\n",
    "    return q*(vy*Bz)\n",
    "\n",
    "def dvydt(vx, vy):\n",
    "    return -q*(vx*Bz)\n"
   ]
  },
  {
   "cell_type": "code",
   "execution_count": 47,
   "metadata": {},
   "outputs": [],
   "source": [
    "x = 3.\n",
    "y = 3.\n",
    "z = 3.\n",
    "vx = 1.\n",
    "vy = 1.\n",
    "vz = 0.\n",
    "dt = 0.0001"
   ]
  },
  {
   "cell_type": "code",
   "execution_count": 48,
   "metadata": {},
   "outputs": [],
   "source": [
    "x_arr = []\n",
    "y_arr = []\n",
    "z_arr = []\n",
    "vx_arr = []\n",
    "vy_arr = []\n",
    "vz_arr = []"
   ]
  },
  {
   "cell_type": "code",
   "execution_count": 49,
   "metadata": {},
   "outputs": [],
   "source": [
    "for i in range(1000):\n",
    "    x += dt * vx\n",
    "    y += dt * vy\n",
    "    vx += dt * dvxdt(vx, vy)\n",
    "    vy += dt * dvydt(vx, vy)\n",
    "    \n",
    "#     print(np.sqrt(vx**2. + vy**2.))\n",
    "    \n",
    "    x_arr.append(x)\n",
    "    y_arr.append(y)\n",
    "    "
   ]
  },
  {
   "cell_type": "code",
   "execution_count": 50,
   "metadata": {},
   "outputs": [
    {
     "data": {
      "text/plain": [
       "[<matplotlib.lines.Line2D at 0x7fce8e2ef510>]"
      ]
     },
     "execution_count": 50,
     "metadata": {},
     "output_type": "execute_result"
    },
    {
     "data": {
      "image/png": "[encoded data removed]",
      "text/plain": [
       "<Figure size 432x288 with 1 Axes>"
      ]
     },
     "metadata": {
      "needs_background": "light"
     },
     "output_type": "display_data"
    }
   ],
   "source": [
    "plt.plot(x_arr, y_arr)"
   ]
  },
  {
   "cell_type": "code",
   "execution_count": null,
   "metadata": {},
   "outputs": [],
   "source": []
  }
 ],
 "metadata": {
  "kernelspec": {
   "display_name": "Python 3",
   "language": "python",
   "name": "python3"
  },
  "language_info": {
   "codemirror_mode": {
    "name": "ipython",
    "version": 3
   },
   "file_extension": ".py",
   "mimetype": "text/x-python",
   "name": "python",
   "nbconvert_exporter": "python",
   "pygments_lexer": "ipython3",
   "version": "3.7.4"
  }
 },
 "nbformat": 4,
 "nbformat_minor": 4
}
