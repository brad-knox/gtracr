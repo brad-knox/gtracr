{
 "cells": [
  {
   "cell_type": "code",
   "execution_count": 1,
   "metadata": {},
   "outputs": [],
   "source": [
    "import sys, os\n",
    "import numpy as np\n",
    "import matplotlib.pyplot as plt\n",
    "# import matplotlib.tri as tri\n",
    "\n",
    "# sys.path.append(os.getcwd())\n",
    "sys.path.append(os.path.join(os.getcwd(), \"..\"))\n",
    "sys.path.append(os.path.join(os.getcwd(), \"..\", \"gtracr\"))\n",
    "\n",
    "from trajectory import Trajectory"
   ]
  },
  {
   "cell_type": "code",
   "execution_count": null,
   "metadata": {},
   "outputs": [],
   "source": [
    "# first load text\n",
    "fpath = os.path.join(os.getcwd(), \"..\", \"data\")\n",
    "print(os.listdir(fpath))\n",
    "igrfcoeffs = np.loadtxt(\n",
    "    os.path.join(fpath, \"igrf13_coeffs.csv\"), \n",
    "#     dtype=[str, float, float],\n",
    "    skiprows=4, \n",
    "    delimiter=\",\",\n",
    "    unpack=True,\n",
    "    usecols=range(29)[3:]\n",
    ")\n",
    "coeff_labeldata = np.genfromtxt(\n",
    "    os.path.join(fpath, \"igrf13_coeffs.csv\"), \n",
    "#     dtype=[\"|U10\", int, int],\n",
    "    dtype=str,\n",
    "    skip_header=4, \n",
    "    delimiter=\",\",\n",
    "#     unpack=True,\n",
    "    usecols=(0,1,2)\n",
    "#     usecols=0\n",
    ")\n",
    "\n",
    "# g = g_or_h[0][0].decode(\"utf-8\")\n",
    "# print(g)\n",
    "# print(igrfcoeffs)\n",
    "# print(coeff_labeldata)\n",
    "# print(type(g_or_h[0][0]))\n",
    "\n",
    "# g_or_h = coeff_labeldata[0]\n",
    "# n_index = coeff_labeldata[1]\n",
    "# m_index = coeff_labeldata[2]"
   ]
  },
  {
   "cell_type": "code",
   "execution_count": 12,
   "metadata": {},
   "outputs": [
    {
     "name": "stdout",
     "output_type": "stream",
     "text": [
      "['g10', 'g11', 'h11', 'g20', 'g21', 'h21', 'g22', 'h22', 'g30', 'g31', 'h31', 'g32', 'h32', 'g33', 'h33', 'g40', 'g41', 'h41', 'g42', 'h42', 'g43', 'h43', 'g44', 'h44', 'g50', 'g51', 'h51', 'g52', 'h52', 'g53', 'h53', 'g54', 'h54', 'g55', 'h55', 'g60', 'g61', 'h61', 'g62', 'h62', 'g63', 'h63', 'g64', 'h64', 'g65', 'h65', 'g66', 'h66', 'g70', 'g71', 'h71', 'g72', 'h72', 'g73', 'h73', 'g74', 'h74', 'g75', 'h75', 'g76', 'h76', 'g77', 'h77', 'g80', 'g81', 'h81', 'g82', 'h82', 'g83', 'h83', 'g84', 'h84', 'g85', 'h85', 'g86', 'h86', 'g87', 'h87', 'g88', 'h88', 'g90', 'g91', 'h91', 'g92', 'h92', 'g93', 'h93', 'g94', 'h94', 'g95', 'h95', 'g96', 'h96', 'g97', 'h97', 'g98', 'h98', 'g99', 'h99', 'g100', 'g101', 'h101', 'g102', 'h102', 'g103', 'h103', 'g104', 'h104', 'g105', 'h105', 'g106', 'h106', 'g107', 'h107', 'g108', 'h108', 'g109', 'h109', 'g1010', 'h1010', 'g110', 'g111', 'h111', 'g112', 'h112', 'g113', 'h113', 'g114', 'h114', 'g115', 'h115', 'g116', 'h116', 'g117', 'h117', 'g118', 'h118', 'g119', 'h119', 'g1110', 'h1110', 'g1111', 'h1111', 'g120', 'g121', 'h121', 'g122', 'h122', 'g123', 'h123', 'g124', 'h124', 'g125', 'h125', 'g126', 'h126', 'g127', 'h127', 'g128', 'h128', 'g129', 'h129', 'g1210', 'h1210', 'g1211', 'h1211', 'g1212', 'h1212', 'g130', 'g131', 'h131', 'g132', 'h132', 'g133', 'h133', 'g134', 'h134', 'g135', 'h135', 'g136', 'h136', 'g137', 'h137', 'g138', 'h138', 'g139', 'h139', 'g1310', 'h1310', 'g1311', 'h1311', 'g1312', 'h1312', 'g1313', 'h1313']\n"
     ]
    }
   ],
   "source": [
    "coeff_labels = []\n",
    "for (gh, n, m) in coeff_labeldata:\n",
    "    coeff_labels.append(gh + n +  m)\n",
    "    \n",
    "print(coeff_labels)"
   ]
  },
  {
   "cell_type": "code",
   "execution_count": null,
   "metadata": {},
   "outputs": [],
   "source": []
  }
 ],
 "metadata": {
  "kernelspec": {
   "display_name": "Python 3",
   "language": "python",
   "name": "python3"
  },
  "language_info": {
   "codemirror_mode": {
    "name": "ipython",
    "version": 3
   },
   "file_extension": ".py",
   "mimetype": "text/x-python",
   "name": "python",
   "nbconvert_exporter": "python",
   "pygments_lexer": "ipython3",
   "version": "3.7.4"
  }
 },
 "nbformat": 4,
 "nbformat_minor": 4
}
