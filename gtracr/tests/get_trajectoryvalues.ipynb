{
 "cells": [
  {
   "cell_type": "code",
   "execution_count": 1,
   "metadata": {},
   "outputs": [],
   "source": [
    "# get the final values for the trajectory to use with the testers\n",
    "import os, sys\n",
    "import numpy as np\n",
    "import matplotlib.pyplot as plt\n",
    "\n",
    "sys.path.append(os.getcwd())\n",
    "sys.path.append(os.path.join(os.getcwd(), \"..\", \"..\"))\n",
    "sys.path.append(os.path.join(os.getcwd(), \"..\", \"..\", \"gtracr\"))\n",
    "# sys.path.append(os.path.join(os.getcwd(), \"gtracr\"))\n",
    "\n",
    "\n",
    "from gtracr.trajectory import Trajectory\n",
    "# from gtracr.lib.trajectorypoint import TrajectoryPoint\n",
    "# from gtracr.utils import spherical_to_cartesian\n",
    "from gtracr.lib.constants import EARTH_RADIUS"
   ]
  },
  {
   "cell_type": "code",
   "execution_count": 2,
   "metadata": {},
   "outputs": [
    {
     "name": "stdout",
     "output_type": "stream",
     "text": [
      "0.004199999999999997\n",
      "0.9999999999980838\n",
      "0.9999999999980838\n",
      "0.9999999999980838\n",
      "0.9999999999980838\n",
      "0.9999999999980838\n",
      "0.9999999999980838\n",
      "0.9999999999980838\n",
      "0.9999999999980838\n",
      "0.9999999999980838\n",
      "0.0076999999999998545\n",
      "0.019769999999999364\n",
      "0.9999999999980838\n"
     ]
    }
   ],
   "source": [
    "# in the form (plabel, zenith, azimuth, particle_altitude, latitude, longitude, detector_altitude, rigidity)\n",
    "initial_variable_list = [\n",
    "    (\"p+\", 90., 90., 100., 0., 0., 0., 30., None),  \n",
    "    (\"p+\", 120., 90., 100., 0., 0., -1., 30., None),\n",
    "    (\"p+\", 0., 25., 100., 50., 100., 0., 50., None),\n",
    "    (\"p+\", 90., 5., 100., 89., 20., 0., 20., None),\n",
    "    (\"p+\", 90., 5., 100., -90., 20., 0., 20., None),\n",
    "    (\"e-\", 90., 5., 100., 40., 200., 0., 20., None),\n",
    "    (\"p+\", 45., 265., 0., 40., 200., 0., 20., None),\n",
    "    (\"p+\", 45., 180., 10., 40., 200., 0., 20., None),\n",
    "    (\"p+\", 45., 0., 0., 89., 0., 0., 20., None),\n",
    "    (\"p+\", 45., 0., 0., 0., 180., 100., 20., None),\n",
    "    (\"p+\", 45., 0., 0., 0., 180., 100., 5., None),\n",
    "    (\"p+\", 45., 0., 0., 0., 180., 100., None, 10.),\n",
    "    (\"p+\", 9., 80., 0., 50., 260., 100., None, 50.)\n",
    "]\n",
    "\n",
    "dt = 1e-5\n",
    "max_time = 1.\n",
    "\n",
    "for initial_variables in initial_variable_list:\n",
    "    (plabel, zenith, azimuth, palt, lat, lng, dalt, rig, en) = initial_variables\n",
    "\n",
    "    traj = Trajectory(\n",
    "        plabel=plabel,\n",
    "        zenith_angle = zenith,\n",
    "        azimuth_angle = azimuth,\n",
    "        particle_altitude = palt,\n",
    "        latitude = lat,\n",
    "        longitude = lng,\n",
    "        detector_altitude = dalt,\n",
    "        rigidity = rig,\n",
    "        energy = en,\n",
    "        bfield_type=\"dipole\"\n",
    "    )\n",
    "\n",
    "    traj.get_trajectory(dt = dt, max_time=max_time, use_python=True)\n",
    "\n",
    "    print(traj.final_time)"
   ]
  },
  {
   "cell_type": "code",
   "execution_count": 4,
   "metadata": {},
   "outputs": [],
   "source": []
  },
  {
   "cell_type": "code",
   "execution_count": 4,
   "metadata": {},
   "outputs": [],
   "source": [
    "initial_variable_list = [\n",
    "    (\"p+\", 90., 0., 100., 0., 0., 0., 50., None)\n",
    "]"
   ]
  },
  {
   "cell_type": "code",
   "execution_count": 5,
   "metadata": {},
   "outputs": [],
   "source": [
    "# dt_list = np.logspace(-9, -1, 10)\n",
    "# print(dt_list)\n",
    "# max_time = 1.\n",
    "dt = 1e-5\n",
    "# max_times = np.logspace(-2, 2, 10)\n",
    "# print(max_times)\n",
    "max_time=1"
   ]
  },
  {
   "cell_type": "code",
   "execution_count": 6,
   "metadata": {},
   "outputs": [],
   "source": [
    "# dates = [1900., 1905.5, 2010., 2020., 2015., 2025., 1917.25, 1918., 2000., 1990.]\n",
    "dates = [\"1900-01-01\", \"1909-01-01\", \"1900-10-31\", \"2020-09-12\", \"2004-03-08\", \"2000-02-28\", \"1970-03-26\", \"1952-04-31\", \"1999-03-08\", \"2024-03-09\"]\n",
    "\n",
    "for date in dates:\n",
    "#     print(date)\n",
    "    \n",
    "    (plabel, zenith, azimuth, palt, lat, lng, dalt, rig, en) =  (\"p+\", 20., -30., 100., 0., 0., 0., 40., None)\n",
    "\n",
    "    traj = Trajectory(\n",
    "        plabel=plabel,\n",
    "        zenith_angle = zenith,\n",
    "        azimuth_angle = azimuth,\n",
    "        particle_altitude = palt,\n",
    "        latitude = lat,\n",
    "        longitude = lng,\n",
    "        detector_altitude = dalt,\n",
    "        rigidity = rig,\n",
    "        energy = en,\n",
    "        bfield_type=\"igrf\",\n",
    "        date=date\n",
    "    )\n",
    "\n",
    "    traj.get_trajectory(dt = dt, max_time=max_time)\n",
    "\n",
    "    print(traj.final_time)"
   ]
  }
 ],
 "metadata": {
  "kernelspec": {
   "display_name": "Python 3",
   "language": "python",
   "name": "python3"
  },
  "language_info": {
   "codemirror_mode": {
    "name": "ipython",
    "version": 3
   },
   "file_extension": ".py",
   "mimetype": "text/x-python",
   "name": "python",
   "nbconvert_exporter": "python",
   "pygments_lexer": "ipython3",
   "version": "3.8.2"
  }
 },
 "nbformat": 4,
 "nbformat_minor": 4
}
