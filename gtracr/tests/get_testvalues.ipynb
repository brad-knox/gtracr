{
 "cells": [
  {
   "cell_type": "code",
   "execution_count": 1,
   "metadata": {},
   "outputs": [],
   "source": [
    "# get values used for testers\n",
    "import os, sys\n",
    "import numpy as np\n",
    "import matplotlib.pyplot as plt\n",
    "\n",
    "sys.path.append(os.getcwd())\n",
    "sys.path.append(os.path.join(os.getcwd(), \"..\", \"..\"))\n",
    "sys.path.append(os.path.join(os.getcwd(), \"..\", \"..\", \"gtracr\"))\n",
    "\n",
    "\n",
    "from gtracr.trajectory import Trajectory\n",
    "from gtracr.lib.constants import EARTH_RADIUS"
   ]
  },
  {
   "cell_type": "code",
   "execution_count": 12,
   "metadata": {},
   "outputs": [
    {
     "name": "stdout",
     "output_type": "stream",
     "text": [
      "2e-05\n",
      "0.2999300000001592\n",
      "0.19221000000005145\n",
      "0.20289000000006213\n",
      "0.21144000000007068\n",
      "0.2024600000000617\n",
      "0.19869000000005793\n",
      "0.2169600000000762\n",
      "0.19499000000005423\n",
      "0.23231000000009155\n",
      "0.007359999999999868\n",
      "0.019439999999999378\n",
      "0.19331000000005255\n"
     ]
    }
   ],
   "source": [
    "# in the form (plabel, zenith, azimuth, particle_altitude, latitude, longitude, detector_altitude, rigidity)\n",
    "'''Evaluate final times of trajectories with the given initial variables, \n",
    "    allows for modification in integration type and magnetic field type'''\n",
    "\n",
    "initial_variable_list = [\n",
    "    (\"p+\", 90., 90., 100., 0., 0., 0., 30., None),  \n",
    "    (\"p+\", 120., 90., 100., 0., 0., -1., 30., None),\n",
    "    (\"p+\", 0., 25., 100., 50., 100., 0., 50., None),\n",
    "    (\"p+\", 90., 5., 100., 89., 20., 0., 20., None),\n",
    "    (\"p+\", 90., 5., 100., -90., 20., 0., 20., None),\n",
    "    (\"e-\", 90., 5., 100., 40., 200., 0., 20., None),\n",
    "    (\"p+\", 45., 265., 0., 40., 200., 0., 20., None),\n",
    "    (\"p+\", 45., 180., 10., 40., 200., 0., 20., None),\n",
    "    (\"p+\", 45., 0., 0., 89., 0., 0., 20., None),\n",
    "    (\"p+\", 45., 0., 0., 0., 180., 100., 20., None),\n",
    "    (\"p+\", 45., 0., 0., 0., 180., 100., 5., None),\n",
    "    (\"p+\", 45., 0., 0., 0., 180., 100., None, 10.),\n",
    "    (\"p+\", 9., 80., 0., 50., 260., 100., None, 50.)\n",
    "]\n",
    "\n",
    "dt = 1e-5\n",
    "max_time = 1.\n",
    "\n",
    "for initial_variables in initial_variable_list:\n",
    "    (plabel, zenith, azimuth, palt, lat, lng, dalt, rig, en) = initial_variables\n",
    "\n",
    "    traj = Trajectory(\n",
    "        plabel=plabel,\n",
    "        zenith_angle = zenith,\n",
    "        azimuth_angle = azimuth,\n",
    "        particle_altitude = palt,\n",
    "        latitude = lat,\n",
    "        longitude = lng,\n",
    "        detector_altitude = dalt,\n",
    "        rigidity = rig,\n",
    "        energy = en,\n",
    "        bfield_type=\"igrf\"\n",
    "    )\n",
    "\n",
    "    traj.get_trajectory(dt = dt, max_time=max_time, use_unvectorized=True, use_python=False)\n",
    "\n",
    "    print(traj.final_time)"
   ]
  },
  {
   "cell_type": "code",
   "execution_count": 8,
   "metadata": {},
   "outputs": [
    {
     "name": "stdout",
     "output_type": "stream",
     "text": [
      "0.22073792992447885\n",
      "0.22073800000531751\n",
      "0.22073800000020008\n",
      "0.22074000000007998\n",
      "0.220799999999992\n",
      "0.22100000000000017\n",
      "0.23000000000000007\n",
      "0.30000000000000004\n"
     ]
    }
   ],
   "source": [
    "'''Evaluate final times of trajectories with varying stepsizes'''\n",
    "dt_arr = [1e-8, 1e-7, 1e-6, 1e-5, 1e-4, 1e-3, 1e-2, 1e-1]\n",
    "max_time = 1.\n",
    "\n",
    "(plabel, zenith, azimuth, palt, lat, lng, dalt, rig,\n",
    " en) = (\"p+\", 90., 0., 100., 0., 0., 0., 50., None)\n",
    "\n",
    "for iexp, dt in enumerate(dt_arr):\n",
    "\n",
    "    traj = Trajectory(plabel=plabel,\n",
    "                      zenith_angle=zenith,\n",
    "                      azimuth_angle=azimuth,\n",
    "                      particle_altitude=palt,\n",
    "                      latitude=lat,\n",
    "                      longitude=lng,\n",
    "                      detector_altitude=dalt,\n",
    "                      rigidity=rig,\n",
    "                      energy=en,\n",
    "                      bfield_type=\"igrf\")\n",
    "\n",
    "    traj.get_trajectory(dt=dt, max_time=max_time)\n",
    "    print(traj.final_time)"
   ]
  },
  {
   "cell_type": "code",
   "execution_count": 9,
   "metadata": {},
   "outputs": [
    {
     "name": "stdout",
     "output_type": "stream",
     "text": [
      "0.00999999999999976\n",
      "0.027829999999999036\n",
      "0.07743000000000268\n",
      "0.2154500000000747\n",
      "0.22074000000007998\n",
      "0.22074000000007998\n",
      "0.22074000000007998\n",
      "0.22074000000007998\n",
      "0.22074000000007998\n",
      "0.22074000000007998\n"
     ]
    }
   ],
   "source": [
    "'''Evaluate final times of trajectories with varying maximal times'''\n",
    "dt = 1e-5\n",
    "max_times = np.logspace(-2, 2, 10)\n",
    "\n",
    "for iexp, max_time in enumerate(max_times):\n",
    "\n",
    "    (plabel, zenith, azimuth, palt, lat, lng, dalt, rig,\n",
    "     en) = (\"p+\", 90., 0., 100., 0., 0., 0., 50., None)\n",
    "\n",
    "    traj = Trajectory(plabel=plabel,\n",
    "                      zenith_angle=zenith,\n",
    "                      azimuth_angle=azimuth,\n",
    "                      particle_altitude=palt,\n",
    "                      latitude=lat,\n",
    "                      longitude=lng,\n",
    "                      detector_altitude=dalt,\n",
    "                      rigidity=rig,\n",
    "                      energy=en,\n",
    "                      bfield_type=\"igrf\")\n",
    "\n",
    "    traj.get_trajectory(dt=dt, max_time=max_time)\n",
    "    print(traj.final_time)"
   ]
  },
  {
   "cell_type": "code",
   "execution_count": 10,
   "metadata": {},
   "outputs": [
    {
     "name": "stdout",
     "output_type": "stream",
     "text": [
      "0.22074000000007998\n",
      "0.22074000000007998\n",
      "0.22074000000007998\n",
      "0.22074000000007998\n",
      "0.22074000000007998\n",
      "0.22074000000007998\n",
      "0.22074000000007998\n",
      "0.22074000000007998\n",
      "0.22074000000007998\n",
      "0.22074000000007998\n"
     ]
    }
   ],
   "source": [
    "'''Evaluate final times of trajectories with varying dates'''\n",
    "dt = 1e-5\n",
    "max_time = 1.\n",
    "\n",
    "dates = [\n",
    "    \"1900-01-01\", \"1909-01-01\", \"1900-10-31\", \"2020-09-12\", \"2004-03-08\",\n",
    "    \"2000-02-28\", \"1970-03-26\", \"1952-04-31\", \"1999-03-08\", \"2024-03-09\"\n",
    "]\n",
    "for iexp, date in enumerate(dates):\n",
    "\n",
    "    (plabel, zenith, azimuth, palt, lat, lng, dalt, rig,\n",
    "     en) = (\"p+\", 90., 0., 100., 0., 0., 0., 50., None)\n",
    "\n",
    "    traj = Trajectory(plabel=plabel,\n",
    "                      zenith_angle=zenith,\n",
    "                      azimuth_angle=azimuth,\n",
    "                      particle_altitude=palt,\n",
    "                      latitude=lat,\n",
    "                      longitude=lng,\n",
    "                      detector_altitude=dalt,\n",
    "                      rigidity=rig,\n",
    "                      energy=en,\n",
    "                      bfield_type=\"igrf\",\n",
    "                      date=date)\n",
    "\n",
    "    traj.get_trajectory(dt=dt, max_time=max_time)\n",
    "\n",
    "    print(traj.final_time)"
   ]
  },
  {
   "cell_type": "code",
   "execution_count": 9,
   "metadata": {},
   "outputs": [],
   "source": [
    "'''Magnetic field test values'''\n",
    "\n",
    "import os, sys\n",
    "import numpy as np\n",
    "\n",
    "from gtracr.lib.constants import EARTH_RADIUS\n",
    "\n",
    "DATA_DIR = os.path.join(os.getcwd(), \"..\", \"data\")\n",
    "\n",
    "# import gauss coefficients from shc file\n",
    "CURRENT_YEAR = 2015\n",
    "\n",
    "LEAP_YEAR = False\n",
    "# check if we have a leap year or not\n",
    "if CURRENT_YEAR % 4 == 0:\n",
    "    LEAP_YEAR = True\n",
    "\n",
    "# r, theta, phi values of interest\n",
    "coord_list = [\n",
    "    (EARTH_RADIUS, np.pi / 2., np.pi),\n",
    "    (EARTH_RADIUS, 0.5, np.pi),\n",
    "    (2. * EARTH_RADIUS, np.pi / 2., np.pi),\n",
    "    (2. * EARTH_RADIUS, np.pi / 2., 2.*np.pi),\n",
    "    (10. * EARTH_RADIUS, 0., 2.*np.pi),\n",
    "    (10. * EARTH_RADIUS, 0., np.pi / 4.),\n",
    "    (10. * EARTH_RADIUS, 0., np.pi / 6.),\n",
    "    (2. * EARTH_RADIUS, np.pi / 6., np.pi),\n",
    "    (2.35 * EARTH_RADIUS, (4. *np.pi) / 6., np.pi),\n",
    "    (5. * EARTH_RADIUS, (4. *np.pi) / 6., (3. * np.pi) / 2.)\n",
    "]\n",
    "\n",
    "def get_bmagvals(model):\n",
    "    '''Get the magnitude of the magnetic field for different models'''\n",
    "    bmag = np.zeros(len(coord_list))\n",
    "    \n",
    "    for iexp, coord in enumerate(coord_list):\n",
    "        bf_values = model.values(*coord)\n",
    "        bmag[iexp] = np.linalg.norm(np.array(bf_values))\n",
    "        \n",
    "    return bmag"
   ]
  },
  {
   "cell_type": "code",
   "execution_count": 2,
   "metadata": {},
   "outputs": [
    {
     "name": "stdout",
     "output_type": "stream",
     "text": [
      "[2.94048000e-05 5.35010091e-05 3.67560000e-06 3.67560000e-06\n",
      " 5.88096000e-08 5.88096000e-08 5.88096000e-08 6.62628213e-06\n",
      " 2.99732384e-06 3.11191153e-07]\n"
     ]
    }
   ],
   "source": [
    "# python, dipole\n",
    "from gtracr.lib.magnetic_field import MagneticField, IGRF13\n",
    "\n",
    "pydip = MagneticField()\n",
    "print(get_bmagvals(pydip))"
   ]
  },
  {
   "cell_type": "code",
   "execution_count": 3,
   "metadata": {},
   "outputs": [
    {
     "name": "stdout",
     "output_type": "stream",
     "text": [
      "[3.42851920e-05 5.42888711e-05 4.07163707e-06 3.45071901e-06\n",
      " 5.97223497e-08 5.97223497e-08 5.97223497e-08 6.83667250e-06\n",
      " 3.42108503e-06 2.67410913e-07]\n"
     ]
    },
    {
     "name": "stderr",
     "output_type": "stream",
     "text": [
      "c:\\users\\voltk\\devel\\gtracr\\gtracr\\lib\\igrf_utils.py:420: UserWarning: The geographic poles are included.\n",
      "  warnings.warn('The geographic poles are included.')\n"
     ]
    }
   ],
   "source": [
    "# python, igrf\n",
    "from gtracr.lib.magnetic_field import IGRF13\n",
    "\n",
    "pyigrf = IGRF13(CURRENT_YEAR)\n",
    "print(get_bmagvals(pyigrf))"
   ]
  },
  {
   "cell_type": "code",
   "execution_count": 2,
   "metadata": {},
   "outputs": [
    {
     "name": "stdout",
     "output_type": "stream",
     "text": [
      "[2.94048000e-05 5.35010091e-05 3.67560000e-06 3.67560000e-06\n",
      " 5.88096000e-08 5.88096000e-08 5.88096000e-08 6.62628213e-06\n",
      " 2.99732384e-06 3.11191153e-07]\n"
     ]
    }
   ],
   "source": [
    "# C++, dipole\n",
    "from gtracr.lib._libgtracr import MagneticField\n",
    "\n",
    "cppdip = MagneticField()\n",
    "print(get_bmagvals(cppdip))"
   ]
  },
  {
   "cell_type": "code",
   "execution_count": 11,
   "metadata": {},
   "outputs": [
    {
     "name": "stdout",
     "output_type": "stream",
     "text": [
      "[5.19450281e+152 2.09335412e+152 2.79407824e+150 2.79407821e+150\n",
      " 7.53165059e+141 7.53165058e+141 7.53165059e+141 3.18252760e+150\n",
      " 1.01416882e+150 1.09191718e+148]\n"
     ]
    }
   ],
   "source": [
    "# C++, igrf\n",
    "# (CURRENTLY BROKEN!! NEEDS URGENT FIX!)\n",
    "\n",
    "# from gtracr.lib._libgtracr import IGRF\n",
    "\n",
    "# DATA_PATH = os.path.join(DATA_DIR, \"igrf13.json\")\n",
    "# cppigrf = IGRF(DATA_PATH, CURRENT_YEAR)\n",
    "# print(get_bmagvals(cppigrf))"
   ]
  },
  {
   "cell_type": "code",
   "execution_count": null,
   "metadata": {},
   "outputs": [],
   "source": []
  }
 ],
 "metadata": {
  "kernelspec": {
   "display_name": "Python 3",
   "language": "python",
   "name": "python3"
  },
  "language_info": {
   "codemirror_mode": {
    "name": "ipython",
    "version": 3
   },
   "file_extension": ".py",
   "mimetype": "text/x-python",
   "name": "python",
   "nbconvert_exporter": "python",
   "pygments_lexer": "ipython3",
   "version": "3.7.3"
  }
 },
 "nbformat": 4,
 "nbformat_minor": 4
}
