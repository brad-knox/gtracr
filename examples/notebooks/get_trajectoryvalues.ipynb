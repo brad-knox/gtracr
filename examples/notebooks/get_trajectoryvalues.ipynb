{
 "cells": [
  {
   "cell_type": "code",
   "execution_count": 4,
   "metadata": {},
   "outputs": [],
   "source": [
    "# get the final values for the trajectory to use with the testers\n",
    "import os, sys\n",
    "import numpy as np\n",
    "import matplotlib.pyplot as plt\n",
    "\n",
    "sys.path.append(os.getcwd())\n",
    "sys.path.append(os.path.join(os.getcwd(), \"..\", \"..\"))\n",
    "sys.path.append(os.path.join(os.getcwd(), \"..\", \"..\", \"gtracr\"))\n",
    "# sys.path.append(os.path.join(os.getcwd(), \"gtracr\"))\n",
    "\n",
    "\n",
    "from trajectory import Trajectory\n",
    "from trajectorypoint import TrajectoryPoint\n",
    "# from gtracr.utils import spherical_to_cartesian\n",
    "from constants import EARTH_RADIUS"
   ]
  },
  {
   "cell_type": "code",
   "execution_count": 5,
   "metadata": {},
   "outputs": [],
   "source": [
    "# in the form (plabel, zenith, azimuth, particle_altitude, latitude, longitude, detector_altitude, rigidity)\n",
    "initial_variable_list = [\n",
    "    (\"p+\", 90., 90., 100., 0., 0., 0., 30.),\n",
    "    (\"p+\", 0., 25., 100., 50., 100., 0., 50.)\n",
    "]"
   ]
  },
  {
   "cell_type": "code",
   "execution_count": 6,
   "metadata": {},
   "outputs": [],
   "source": [
    "dt = 1e-5\n",
    "max_time = 1."
   ]
  },
  {
   "cell_type": "code",
   "execution_count": 7,
   "metadata": {},
   "outputs": [
    {
     "name": "stdout",
     "output_type": "stream",
     "text": [
      "0.004199999999999997 [ 6.37071829e+06  1.57079633e+00  1.94647741e-01 -2.60535458e-18\n",
      "  1.90107218e-33  1.58675306e-17]\n",
      "<class 'numpy.ndarray'>\n",
      "0.19221000000005145 [6.37129272e+07 7.97888890e-01 2.13085193e+00 2.67479369e-17\n",
      " 7.52425459e-19 1.49054531e-18]\n",
      "<class 'numpy.ndarray'>\n"
     ]
    }
   ],
   "source": [
    "for initial_variables in initial_variable_list:\n",
    "    plabel= initial_variables[0]\n",
    "    zenith = initial_variables[1]\n",
    "    azimuth = initial_variables[2]\n",
    "    particle_altitude = initial_variables[3]\n",
    "    latitude = initial_variables[4]\n",
    "    longitude = initial_variables[5]\n",
    "    detector_altitude = initial_variables[6]\n",
    "    rigidity = initial_variables[7]\n",
    "    \n",
    "    traj = Trajectory(\n",
    "        plabel=plabel,\n",
    "        zenith_angle = zenith,\n",
    "        azimuth_angle = azimuth,\n",
    "        particle_altitude = particle_altitude,\n",
    "        latitude = latitude,\n",
    "        longitude = longitude,\n",
    "        detector_altitude = detector_altitude,\n",
    "        rigidity = rigidity\n",
    "    )\n",
    "    \n",
    "    traj.get_trajectory(dt = dt, max_time=max_time)\n",
    "    \n",
    "    print(traj.final_time, traj.final_sixvector)\n",
    "#     print(type(traj.final_sixvector))"
   ]
  },
  {
   "cell_type": "code",
   "execution_count": null,
   "metadata": {},
   "outputs": [],
   "source": []
  },
  {
   "cell_type": "code",
   "execution_count": null,
   "metadata": {},
   "outputs": [],
   "source": []
  }
 ],
 "metadata": {
  "kernelspec": {
   "display_name": "Python 3",
   "language": "python",
   "name": "python3"
  },
  "language_info": {
   "codemirror_mode": {
    "name": "ipython",
    "version": 3
   },
   "file_extension": ".py",
   "mimetype": "text/x-python",
   "name": "python",
   "nbconvert_exporter": "python",
   "pygments_lexer": "ipython3",
   "version": "3.7.3"
  }
 },
 "nbformat": 4,
 "nbformat_minor": 4
}
