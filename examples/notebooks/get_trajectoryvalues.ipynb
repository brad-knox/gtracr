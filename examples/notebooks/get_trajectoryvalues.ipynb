{
 "cells": [
  {
   "cell_type": "code",
   "execution_count": 1,
   "metadata": {},
   "outputs": [],
   "source": [
    "# get the final values for the trajectory to use with the testers\n",
    "import os, sys\n",
    "import numpy as np\n",
    "import matplotlib.pyplot as plt\n",
    "\n",
    "sys.path.append(os.getcwd())\n",
    "sys.path.append(os.path.join(os.getcwd(), \"..\", \"..\"))\n",
    "sys.path.append(os.path.join(os.getcwd(), \"..\", \"..\", \"gtracr\"))\n",
    "# sys.path.append(os.path.join(os.getcwd(), \"gtracr\"))\n",
    "\n",
    "\n",
    "from trajectory import Trajectory\n",
    "from trajectorypoint import TrajectoryPoint\n",
    "# from gtracr.utils import spherical_to_cartesian\n",
    "from constants import EARTH_RADIUS"
   ]
  },
  {
   "cell_type": "code",
   "execution_count": 18,
   "metadata": {},
   "outputs": [],
   "source": [
    "# in the form (plabel, zenith, azimuth, particle_altitude, latitude, longitude, detector_altitude, rigidity)\n",
    "initial_variable_list = [\n",
    "    (\"p+\", 90., 90., 100., 0., 0., 0., 30.),\n",
    "    (\"p+\", 120., 90., 100., 0., 0., -1., 30.),\n",
    "    (\"p+\", 0., 25., 100., 50., 100., 0., 50.),\n",
    "    (\"p+\", 90., 5., 100., 89., 20., 0., 20.),\n",
    "    (\"p+\", 90., 5., 100., -90., 20., 0., 20.)\n",
    "]"
   ]
  },
  {
   "cell_type": "code",
   "execution_count": 19,
   "metadata": {},
   "outputs": [
    {
     "name": "stdout",
     "output_type": "stream",
     "text": [
      "10000.0\n"
     ]
    }
   ],
   "source": [
    "dt = 1e-5\n",
    "max_time = 0.1"
   ]
  },
  {
   "cell_type": "code",
   "execution_count": 21,
   "metadata": {},
   "outputs": [
    {
     "ename": "RuntimeError",
     "evalue": "\nnn != n or mm != m",
     "output_type": "error",
     "traceback": [
      "\u001b[1;31m---------------------------------------------------------------------------\u001b[0m",
      "\u001b[1;31mRuntimeError\u001b[0m                              Traceback (most recent call last)",
      "\u001b[1;32m<ipython-input-21-af3cc690799c>\u001b[0m in \u001b[0;36m<module>\u001b[1;34m\u001b[0m\n\u001b[0;32m     21\u001b[0m     )\n\u001b[0;32m     22\u001b[0m \u001b[1;33m\u001b[0m\u001b[0m\n\u001b[1;32m---> 23\u001b[1;33m     \u001b[0mtraj\u001b[0m\u001b[1;33m.\u001b[0m\u001b[0mget_trajectory\u001b[0m\u001b[1;33m(\u001b[0m\u001b[0mdt\u001b[0m \u001b[1;33m=\u001b[0m \u001b[0mdt\u001b[0m\u001b[1;33m,\u001b[0m \u001b[0mmax_time\u001b[0m\u001b[1;33m=\u001b[0m\u001b[0mmax_time\u001b[0m\u001b[1;33m)\u001b[0m\u001b[1;33m\u001b[0m\u001b[1;33m\u001b[0m\u001b[0m\n\u001b[0m\u001b[0;32m     24\u001b[0m \u001b[1;33m\u001b[0m\u001b[0m\n\u001b[0;32m     25\u001b[0m     \u001b[0mprint\u001b[0m\u001b[1;33m(\u001b[0m\u001b[0mtraj\u001b[0m\u001b[1;33m.\u001b[0m\u001b[0mfinal_time\u001b[0m\u001b[1;33m,\u001b[0m \u001b[0mtraj\u001b[0m\u001b[1;33m.\u001b[0m\u001b[0mfinal_sixvector\u001b[0m\u001b[1;33m)\u001b[0m\u001b[1;33m\u001b[0m\u001b[1;33m\u001b[0m\u001b[0m\n",
      "\u001b[1;32m~\\devel\\gtracr\\examples\\notebooks\\..\\..\\gtracr\\trajectory.py\u001b[0m in \u001b[0;36mget_trajectory\u001b[1;34m(self, dt, max_time, max_step, get_data, use_python, use_unvectorized)\u001b[0m\n\u001b[0;32m    193\u001b[0m                                            \u001b[0mself\u001b[0m\u001b[1;33m.\u001b[0m\u001b[0mparticle\u001b[0m\u001b[1;33m.\u001b[0m\u001b[0mmass\u001b[0m\u001b[1;33m,\u001b[0m\u001b[1;33m\u001b[0m\u001b[1;33m\u001b[0m\u001b[0m\n\u001b[0;32m    194\u001b[0m                                            \u001b[0mself\u001b[0m\u001b[1;33m.\u001b[0m\u001b[0mescape_altitude\u001b[0m\u001b[1;33m,\u001b[0m \u001b[0mdt\u001b[0m\u001b[1;33m,\u001b[0m \u001b[0mmax_step\u001b[0m\u001b[1;33m,\u001b[0m\u001b[1;33m\u001b[0m\u001b[1;33m\u001b[0m\u001b[0m\n\u001b[1;32m--> 195\u001b[1;33m                                            self.bfield_type, self.igrf_params)\n\u001b[0m\u001b[0;32m    196\u001b[0m \u001b[1;33m\u001b[0m\u001b[0m\n\u001b[0;32m    197\u001b[0m         \u001b[1;31m# set initial values\u001b[0m\u001b[1;33m\u001b[0m\u001b[1;33m\u001b[0m\u001b[1;33m\u001b[0m\u001b[0m\n",
      "\u001b[1;31mRuntimeError\u001b[0m: \nnn != n or mm != m"
     ]
    }
   ],
   "source": [
    "for initial_variables in initial_variable_list:\n",
    "    plabel= initial_variables[0]\n",
    "    zenith = initial_variables[1]\n",
    "    azimuth = initial_variables[2]\n",
    "    particle_altitude = initial_variables[3]\n",
    "    latitude = initial_variables[4]\n",
    "    longitude = initial_variables[5]\n",
    "    detector_altitude = initial_variables[6]\n",
    "    rigidity = initial_variables[7]\n",
    "    \n",
    "    traj = Trajectory(\n",
    "        plabel=plabel,\n",
    "        zenith_angle = zenith,\n",
    "        azimuth_angle = azimuth,\n",
    "        particle_altitude = particle_altitude,\n",
    "        latitude = latitude,\n",
    "        longitude = longitude,\n",
    "        detector_altitude = detector_altitude,\n",
    "        rigidity = rigidity,\n",
    "        bfield_type=\"igrf\"\n",
    "    )\n",
    "    \n",
    "    traj.get_trajectory(dt = dt, max_time=max_time)\n",
    "    \n",
    "    print(traj.final_time, traj.final_sixvector)\n",
    "    print(traj.particle_escaped)\n",
    "    print(np.floor(traj.final_time/dt))\n",
    "#     print(type(traj.final_sixvector))"
   ]
  },
  {
   "cell_type": "code",
   "execution_count": null,
   "metadata": {},
   "outputs": [],
   "source": []
  },
  {
   "cell_type": "code",
   "execution_count": null,
   "metadata": {},
   "outputs": [],
   "source": []
  }
 ],
 "metadata": {
  "kernelspec": {
   "display_name": "Python 3",
   "language": "python",
   "name": "python3"
  },
  "language_info": {
   "codemirror_mode": {
    "name": "ipython",
    "version": 3
   },
   "file_extension": ".py",
   "mimetype": "text/x-python",
   "name": "python",
   "nbconvert_exporter": "python",
   "pygments_lexer": "ipython3",
   "version": "3.8.2"
  }
 },
 "nbformat": 4,
 "nbformat_minor": 4
}
